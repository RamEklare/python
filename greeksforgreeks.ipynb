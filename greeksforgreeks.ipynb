{
 "cells": [
  {
   "cell_type": "code",
   "execution_count": 1,
   "id": "20953a22-ea67-4b06-9b30-62346dd6928f",
   "metadata": {},
   "outputs": [
    {
     "name": "stdin",
     "output_type": "stream",
     "text": [
      "enter first num 1\n",
      "enter second num 1\n"
     ]
    },
    {
     "name": "stdout",
     "output_type": "stream",
     "text": [
      "Sum : 2\n"
     ]
    }
   ],
   "source": [
    "a = int(input('enter first num'))\n",
    "b = int(input('enter second num'))\n",
    "print('Sum :',a+b)"
   ]
  },
  {
   "cell_type": "code",
   "execution_count": 3,
   "id": "8a69e036-fa61-4dc3-b0b2-981b572ad8e5",
   "metadata": {},
   "outputs": [
    {
     "name": "stdin",
     "output_type": "stream",
     "text": [
      "enter first num 3\n",
      "enter second num 2\n"
     ]
    },
    {
     "name": "stdout",
     "output_type": "stream",
     "text": [
      "3\n"
     ]
    }
   ],
   "source": [
    "a = int(input('enter first num'))\n",
    "b = int(input('enter second num'))\n",
    "if a > b:\n",
    "    print(a)\n",
    "else:\n",
    "    print(b)"
   ]
  },
  {
   "cell_type": "code",
   "execution_count": 5,
   "id": "cb98afca-65a6-4f43-94a0-8a630642423b",
   "metadata": {},
   "outputs": [
    {
     "name": "stdin",
     "output_type": "stream",
     "text": [
      "enter first num 4\n",
      "enter second num 5\n",
      "emter third num 1\n"
     ]
    },
    {
     "name": "stdout",
     "output_type": "stream",
     "text": [
      "5\n"
     ]
    }
   ],
   "source": [
    "a = int(input('enter first num'))\n",
    "b = int(input('enter second num'))\n",
    "c = int(input('emter third num'))\n",
    "if a > b and a > c:\n",
    "    print(a)\n",
    "elif b > a and b > c:\n",
    "    print(b)\n",
    "else:\n",
    "    print(c)"
   ]
  },
  {
   "cell_type": "code",
   "execution_count": 13,
   "id": "761cdcbb-7420-41c2-bfce-72dd7f898e2a",
   "metadata": {},
   "outputs": [
    {
     "name": "stdin",
     "output_type": "stream",
     "text": [
      "enter num 3\n"
     ]
    },
    {
     "name": "stdout",
     "output_type": "stream",
     "text": [
      "6\n"
     ]
    }
   ],
   "source": [
    "# def factorial(n):\n",
    "#     fact = 1\n",
    "#     for i in range(1,n+1):\n",
    "#         fact = fact * i\n",
    "#     print(fact)\n",
    "# print(factorial(3))\n",
    "n = int(input('enter num'))\n",
    "fact = 1\n",
    "for i in range(1,n+1):\n",
    "    fact = fact*i\n",
    "print(fact)"
   ]
  },
  {
   "cell_type": "code",
   "execution_count": 15,
   "id": "a6edde84-cbde-47d2-8514-cbbbc1bdc57f",
   "metadata": {},
   "outputs": [
    {
     "name": "stdout",
     "output_type": "stream",
     "text": [
      "3.84\n"
     ]
    }
   ],
   "source": [
    "# simple interest\n",
    "def simpleinterest(p,n,r):\n",
    "    return (p*n*r)/100\n",
    "print(simpleinterest(8,6,8))"
   ]
  },
  {
   "cell_type": "code",
   "execution_count": 19,
   "id": "823dc2c3-f116-4289-815a-f0b84ce5c1d9",
   "metadata": {},
   "outputs": [
    {
     "name": "stdout",
     "output_type": "stream",
     "text": [
      "78.53981633974483\n"
     ]
    }
   ],
   "source": [
    "# find area of circle\n",
    "from math import pi\n",
    "def areacircle(r):\n",
    "    return pi*r**2\n",
    "print(areacircle(5))"
   ]
  },
  {
   "cell_type": "code",
   "execution_count": 33,
   "id": "04dad271-10ca-4910-ae09-e5e328110bbb",
   "metadata": {},
   "outputs": [
    {
     "name": "stdin",
     "output_type": "stream",
     "text": [
      "enter number 5\n"
     ]
    },
    {
     "name": "stdout",
     "output_type": "stream",
     "text": [
      "prime\n"
     ]
    }
   ],
   "source": [
    "def is_prime(n):\n",
    "    if n <= 1:\n",
    "        return False\n",
    "    for i in range(2,int(n**0.5)+1):\n",
    "        if n % i == 0:\n",
    "            return False\n",
    "    return True\n",
    "num = int(input('enter number'))\n",
    "if is_prime(num):\n",
    "    print('prime')\n",
    "else:\n",
    "    print('not prime')"
   ]
  },
  {
   "cell_type": "code",
   "execution_count": 41,
   "id": "f58ad6b8-fb54-4649-afb9-2114a028dfac",
   "metadata": {},
   "outputs": [
    {
     "name": "stdout",
     "output_type": "stream",
     "text": [
      "0\n",
      "1\n",
      "1\n",
      "2\n",
      "3\n",
      "None\n"
     ]
    }
   ],
   "source": [
    "# fibonacci series\n",
    "def fib_series(n):\n",
    "    a,b = 0,1\n",
    "    for i in range(n):\n",
    "        print(a)\n",
    "        a,b = b,a+b\n",
    "print(fib_series(5))\n",
    "\n"
   ]
  },
  {
   "cell_type": "code",
   "execution_count": 43,
   "id": "cd5fe2a5-4142-49d7-aa9b-d3ac2d045d8c",
   "metadata": {},
   "outputs": [
    {
     "name": "stdout",
     "output_type": "stream",
     "text": [
      "[4, 2, 3, 1]\n"
     ]
    }
   ],
   "source": [
    "# swap list\n",
    "def swaplist(list):\n",
    "    get = list[-1], list[0]\n",
    "    list[0], list[-1] = get\n",
    "    return list\n",
    "newList = [1,2,3,4]\n",
    "print(swaplist(newList))"
   ]
  },
  {
   "cell_type": "code",
   "execution_count": 8,
   "id": "00a3bd53-d764-4f21-818e-e0d96b94f78a",
   "metadata": {},
   "outputs": [
    {
     "name": "stdout",
     "output_type": "stream",
     "text": [
      "[4, 3, 2, 1]\n"
     ]
    }
   ],
   "source": [
    "# reverse list\n",
    "list = [1,2,3,4]\n",
    "rev_list = []\n",
    "for num in list:\n",
    "    rev_list.insert(0,num)\n",
    "print(rev_list)"
   ]
  },
  {
   "cell_type": "code",
   "execution_count": 49,
   "id": "3b1493f4-43b4-456c-821b-63f2b3ee873b",
   "metadata": {},
   "outputs": [
    {
     "name": "stdout",
     "output_type": "stream",
     "text": [
      "15\n"
     ]
    }
   ],
   "source": [
    "# sum of element in list\n",
    "\n",
    "list = [1,2,3,4,5]\n",
    "sum = 0\n",
    "for num in list:\n",
    "    sum = sum + num\n",
    "print(sum)"
   ]
  },
  {
   "cell_type": "code",
   "execution_count": 53,
   "id": "79f23a7c-77d3-4155-b0ba-47841e9fa72f",
   "metadata": {},
   "outputs": [
    {
     "name": "stdout",
     "output_type": "stream",
     "text": [
      "192\n"
     ]
    }
   ],
   "source": [
    "# multiply element in list\n",
    "\n",
    "list = [2,4,8,3]\n",
    "mul = 1\n",
    "for num in list:\n",
    "    mul = mul * num\n",
    "print(mul)"
   ]
  },
  {
   "cell_type": "code",
   "execution_count": 57,
   "id": "f36dc3f5-60c7-4b00-87b7-306c08cf8232",
   "metadata": {},
   "outputs": [
    {
     "name": "stdout",
     "output_type": "stream",
     "text": [
      "1\n"
     ]
    }
   ],
   "source": [
    "# smallest num\n",
    "number = [3,2,5,1,8]\n",
    "smallest = number[0]\n",
    "for num in number:\n",
    "    if num < smallest:\n",
    "        smallest = num\n",
    "print(smallest)"
   ]
  },
  {
   "cell_type": "code",
   "execution_count": 61,
   "id": "97de27a9-b508-4fb6-8a66-9eaccdad9eab",
   "metadata": {},
   "outputs": [
    {
     "name": "stdout",
     "output_type": "stream",
     "text": [
      "8\n"
     ]
    }
   ],
   "source": [
    "# largest num is lust\n",
    "number = [2,5,3,1,8,4]\n",
    "largest = number[0]\n",
    "for num in number:\n",
    "    if num > largest:\n",
    "        largest = num\n",
    "print(largest)"
   ]
  },
  {
   "cell_type": "code",
   "execution_count": 65,
   "id": "9e5d235c-32ef-4f4e-afcb-62c4a39fffb3",
   "metadata": {},
   "outputs": [
    {
     "name": "stdout",
     "output_type": "stream",
     "text": [
      "3\n"
     ]
    }
   ],
   "source": [
    "# find second largest num in list\n",
    "def second_largest(list):\n",
    "    uni_num = set(list)\n",
    "    if len(uni_num) < 2:\n",
    "        return None\n",
    "    uni_num.remove(max(uni_num))\n",
    "    return max(uni_num)\n",
    "numbers = [1,2,3,4]\n",
    "print(second_largest(numbers))"
   ]
  },
  {
   "cell_type": "code",
   "execution_count": 69,
   "id": "371d928e-3b4e-4952-8c87-f0031988a13f",
   "metadata": {},
   "outputs": [
    {
     "name": "stdout",
     "output_type": "stream",
     "text": [
      "2\n",
      "4\n",
      "6\n"
     ]
    }
   ],
   "source": [
    "# Even number in a list\n",
    "list = [1,2,3,4,5,6]\n",
    "for num in list:\n",
    "    if num % 2 == 0:\n",
    "        print(num)\n",
    "    "
   ]
  },
  {
   "cell_type": "code",
   "execution_count": 71,
   "id": "93f19528-46f5-4a9d-9b10-ed1eb670af04",
   "metadata": {},
   "outputs": [
    {
     "name": "stdout",
     "output_type": "stream",
     "text": [
      "1\n",
      "3\n",
      "5\n"
     ]
    }
   ],
   "source": [
    "# odd num\n",
    "list = [1,2,3,4,5,6]\n",
    "for num in list:\n",
    "    if num % 2 != 0:\n",
    "        print(num)"
   ]
  },
  {
   "cell_type": "code",
   "execution_count": 73,
   "id": "fe692c99-f8a1-4358-9629-16ad056e5aa2",
   "metadata": {},
   "outputs": [
    {
     "name": "stdout",
     "output_type": "stream",
     "text": [
      "[0, 2, 4, 6, 8, 10, 12, 14, 16, 18, 20, 22, 24, 26, 28, 30, 32, 34, 36, 38, 40, 42, 44, 46, 48]\n"
     ]
    }
   ],
   "source": [
    "# print all even num in a range\n",
    "even = [x for x in range(50) if x % 2 == 0]\n",
    "print(even)\n",
    "    "
   ]
  },
  {
   "cell_type": "code",
   "execution_count": 75,
   "id": "0426cb58-7afd-4289-a3b1-f549873e317d",
   "metadata": {},
   "outputs": [
    {
     "name": "stdout",
     "output_type": "stream",
     "text": [
      "[1, 3, 5, 7, 9, 11, 13, 15, 17, 19, 21, 23, 25, 27, 29, 31, 33, 35, 37, 39, 41, 43, 45, 47, 49]\n"
     ]
    }
   ],
   "source": [
    "# print all odd number in a range\n",
    "odd = [x for x in range(50) if x%2 != 0]\n",
    "print(odd)"
   ]
  },
  {
   "cell_type": "code",
   "execution_count": 77,
   "id": "1b2d6039-57ff-4aa6-a250-097b53967135",
   "metadata": {},
   "outputs": [
    {
     "name": "stdout",
     "output_type": "stream",
     "text": [
      "[10, 30, 50, 70]\n"
     ]
    }
   ],
   "source": [
    "# remove multiple element from list\n",
    "list = [10,20,30,40,50,60,70]\n",
    "remove = [20,40,60]\n",
    "result = []\n",
    "for num in list:\n",
    "    if num not in remove:\n",
    "        result.append(num)\n",
    "print(result)\n",
    "        "
   ]
  },
  {
   "cell_type": "code",
   "execution_count": 79,
   "id": "136b5515-f400-4ad6-b71f-850aef0eb7e7",
   "metadata": {},
   "outputs": [
    {
     "name": "stdout",
     "output_type": "stream",
     "text": [
      "{1: 1, 2: 2, 3: 1, 4: 2, 5: 2}\n"
     ]
    }
   ],
   "source": [
    "# occurence of an element in a list\n",
    "list = [1,2,3,4,5,5,4,2]\n",
    "occ_list = {}\n",
    "for num in list:\n",
    "    if num in occ_list:\n",
    "        occ_list[num] += 1\n",
    "    else:\n",
    "        occ_list[num] = 1\n",
    "print(occ_list)"
   ]
  },
  {
   "cell_type": "code",
   "execution_count": 81,
   "id": "9a813899-5512-4a4c-bc76-34e2450ce6e3",
   "metadata": {},
   "outputs": [
    {
     "name": "stdout",
     "output_type": "stream",
     "text": [
      "4\n"
     ]
    }
   ],
   "source": [
    "# find the length of list\n",
    "list = [1,2,3,4]\n",
    "count = 0\n",
    "for num in list:\n",
    "    count = count + 1\n",
    "print(count)"
   ]
  },
  {
   "cell_type": "code",
   "execution_count": 4,
   "id": "37816a8f-ec8a-4450-bed9-aa423ed95f0e",
   "metadata": {},
   "outputs": [
    {
     "name": "stdout",
     "output_type": "stream",
     "text": [
      "['e', 's', 'k', 'G']\n"
     ]
    }
   ],
   "source": [
    "# find duplicate character in string\n",
    "s = \"GeeksforGeeks\"\n",
    "res = []\n",
    "\n",
    "# Iterate over the unique elements in 's'\n",
    "for c in set(s):  # Use set to avoid repeated checks\n",
    "    if s.count(c) > 1:\n",
    "        res.append(c)\n",
    "        \n",
    "\n",
    "print(res)\n",
    "\n"
   ]
  },
  {
   "cell_type": "code",
   "execution_count": 103,
   "id": "27fcc0b4-17ab-4024-ac89-2db9f8f16fe7",
   "metadata": {},
   "outputs": [
    {
     "name": "stdout",
     "output_type": "stream",
     "text": [
      "['r', 'a', 'm', 'e', 'k', 'l']\n"
     ]
    }
   ],
   "source": [
    "name = 'rameklare'\n",
    "unique_char = []\n",
    "for char in name:\n",
    "    if char not in unique_char:\n",
    "        unique_char.append(char)\n",
    "print"
   ]
  },
  {
   "cell_type": "code",
   "execution_count": 12,
   "id": "041d527d-7c69-4723-be77-3e8aa3ec4025",
   "metadata": {},
   "outputs": [
    {
     "name": "stdout",
     "output_type": "stream",
     "text": [
      "['e', 'r', 'k', 's', 'G']\n"
     ]
    }
   ],
   "source": [
    "s = 'GreeksforGreeks'\n",
    "res = []\n",
    "for c in set(s):\n",
    "    if s.count(c) > 1:\n",
    "        res.append(c)\n",
    "print(res)"
   ]
  },
  {
   "cell_type": "code",
   "execution_count": null,
   "id": "f790e06e-0338-4e14-9957-8d569cc6c6f1",
   "metadata": {},
   "outputs": [],
   "source": []
  }
 ],
 "metadata": {
  "kernelspec": {
   "display_name": "Python 3 (ipykernel)",
   "language": "python",
   "name": "python3"
  },
  "language_info": {
   "codemirror_mode": {
    "name": "ipython",
    "version": 3
   },
   "file_extension": ".py",
   "mimetype": "text/x-python",
   "name": "python",
   "nbconvert_exporter": "python",
   "pygments_lexer": "ipython3",
   "version": "3.12.4"
  }
 },
 "nbformat": 4,
 "nbformat_minor": 5
}
