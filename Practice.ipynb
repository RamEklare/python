{
 "cells": [
  {
   "cell_type": "markdown",
   "id": "28c6a76c-5634-4ac3-a664-d94051ff7632",
   "metadata": {},
   "source": [
    "#### Day 1"
   ]
  },
  {
   "cell_type": "code",
   "execution_count": 5,
   "id": "0e7fada7-acf6-4b6c-a1d2-0a963879c1fe",
   "metadata": {},
   "outputs": [
    {
     "name": "stdout",
     "output_type": "stream",
     "text": [
      "Hello World\n",
      "My name is Ram. My age is 27\n"
     ]
    }
   ],
   "source": [
    "print('Hello World')\n",
    "print('My name is Ram.', 'My age is 27')"
   ]
  },
  {
   "cell_type": "code",
   "execution_count": 23,
   "id": "0018608f-0148-4c79-b82c-c27d6505b5e3",
   "metadata": {},
   "outputs": [
    {
     "name": "stdout",
     "output_type": "stream",
     "text": [
      "My name is : Ram\n",
      "My age is : 27\n",
      "Price : 10.25\n",
      "<class 'str'>\n",
      "<class 'int'>\n",
      "<class 'float'>\n"
     ]
    }
   ],
   "source": [
    "# Variables -- variables is a name given to a memory location in program\n",
    "\n",
    "name = 'Ram'  #str\n",
    "age = 27  #int\n",
    "price = 10.25  #float\n",
    "print('My name is :', name)\n",
    "print('My age is :', age)\n",
    "print('Price :', price)\n",
    "\n",
    "print(type(name))\n",
    "print(type(age))\n",
    "print(type(price))"
   ]
  },
  {
   "cell_type": "code",
   "execution_count": 27,
   "id": "a72d0e56-09b2-438d-84e4-e3a3c5bad5bb",
   "metadata": {},
   "outputs": [],
   "source": [
    "# Data Types\n",
    "\n",
    "# 1- Integers  (25,-25,0)\n",
    "# 2- String   ('ram')\n",
    "# 3- Float   (2.99,5.10)\n",
    "# 4- Boolean   (True, False)\n",
    "# 5- None"
   ]
  },
  {
   "cell_type": "code",
   "execution_count": 29,
   "id": "f9f442f6-02c7-4655-bb43-0712f7efa21e",
   "metadata": {},
   "outputs": [
    {
     "name": "stdout",
     "output_type": "stream",
     "text": [
      "The sum is : 30\n"
     ]
    }
   ],
   "source": [
    "# print sum\n",
    "\n",
    "a = 10\n",
    "b = 20\n",
    "sum = a+b\n",
    "print('The sum is :', sum)"
   ]
  },
  {
   "cell_type": "code",
   "execution_count": 31,
   "id": "42255036-6de0-4cee-ae6d-ee0fb92ba55e",
   "metadata": {},
   "outputs": [],
   "source": [
    "# Arithmetic operator\n",
    "\n",
    "# + --- Addition\n",
    "# - --- substraction\n",
    "# * --- multiplication\n",
    "# / --- division\n",
    "# % --- Modulo\n",
    "# // --- floor division operator\n",
    "# ** --- Exponent/power operator"
   ]
  },
  {
   "cell_type": "code",
   "execution_count": 63,
   "id": "5e91466a-e46e-48ea-bf5b-ca4b75cc5223",
   "metadata": {},
   "outputs": [
    {
     "name": "stdout",
     "output_type": "stream",
     "text": [
      "12\n",
      "8\n",
      "20\n",
      "5.0\n",
      "0\n",
      "5\n",
      "100\n"
     ]
    }
   ],
   "source": [
    "# arithmetic operator\n",
    "\n",
    "a = 10\n",
    "b = 2\n",
    "print(a+b)\n",
    "print(a-b)\n",
    "print(a*b)\n",
    "print(a/b)  # always in floating points\n",
    "print(a%b)\n",
    "print(a//b)  # arg are int type then return int value\n",
    "print(a**b)"
   ]
  },
  {
   "cell_type": "code",
   "execution_count": 65,
   "id": "0db5eea8-7e5b-4f37-8f8c-ab02b76e2df5",
   "metadata": {},
   "outputs": [
    {
     "name": "stdout",
     "output_type": "stream",
     "text": [
      "12.5\n",
      "8.5\n",
      "21.0\n",
      "5.25\n",
      "0.5\n",
      "5.0\n",
      "110.25\n"
     ]
    }
   ],
   "source": [
    "a = 10.5\n",
    "b = 2\n",
    "print(a+b)\n",
    "print(a-b)\n",
    "print(a*b)\n",
    "print(a/b)  # always in floating points\n",
    "print(a%b)\n",
    "print(a//b)  # arg are int type then return int value\n",
    "print(a**b)"
   ]
  },
  {
   "cell_type": "code",
   "execution_count": 67,
   "id": "71e535a3-d387-4558-aa0e-477fe4186ffd",
   "metadata": {},
   "outputs": [
    {
     "name": "stdout",
     "output_type": "stream",
     "text": [
      "a==b is : False\n",
      "a!=b is : True\n",
      "a>b is : False\n",
      "a>=b is : False\n",
      "a<b is : True\n",
      "a<=b is : True\n"
     ]
    }
   ],
   "source": [
    "# relational operator\n",
    "\n",
    "a = 10\n",
    "b = 20\n",
    "print('a==b is :',a==b)\n",
    "print('a!=b is :', a!=b)\n",
    "print('a>b is :', a>b)\n",
    "print('a>=b is :', a>=b)\n",
    "print('a<b is :',a<b)\n",
    "print('a<=b is :', a<=b)"
   ]
  },
  {
   "cell_type": "code",
   "execution_count": 80,
   "id": "7c88c8b5-efd8-4fd8-946b-53b141721265",
   "metadata": {},
   "outputs": [
    {
     "name": "stdout",
     "output_type": "stream",
     "text": [
      "20\n"
     ]
    }
   ],
   "source": [
    "# Assignment operator\n",
    "\n",
    "a = 10\n",
    "a+=10\n",
    "print(a)"
   ]
  },
  {
   "cell_type": "code",
   "execution_count": 86,
   "id": "3bab9543-c337-406e-a111-656d125f79c0",
   "metadata": {},
   "outputs": [
    {
     "name": "stdout",
     "output_type": "stream",
     "text": [
      "and operator : 0\n",
      "and operator : 20\n"
     ]
    }
   ],
   "source": [
    "# Logical operator\n",
    "# and, or , not\n",
    "\n",
    "# 1) and \n",
    "\n",
    "val1 = 0\n",
    "val2 = 20\n",
    "print('and operator :', val1 and val2)\n",
    "\n",
    "val1 = 10\n",
    "val2 = 20\n",
    "print('and operator :', val1 and val2)"
   ]
  },
  {
   "cell_type": "code",
   "execution_count": 96,
   "id": "97db0269-beb3-48a4-a4c7-2b11a0062bc1",
   "metadata": {},
   "outputs": [
    {
     "name": "stdout",
     "output_type": "stream",
     "text": [
      "or operator : 10\n",
      "or operator : 20\n"
     ]
    }
   ],
   "source": [
    "# 2) or\n",
    "\n",
    "val1 = 10\n",
    "val2 = 20\n",
    "print('or operator :', val1 or val2)\n",
    "\n",
    "val1 = 0\n",
    "val2 = 20\n",
    "print('or operator :', val1 or val2)"
   ]
  },
  {
   "cell_type": "code",
   "execution_count": 98,
   "id": "cb6a156a-caf8-4a83-b7e7-22f608faa92d",
   "metadata": {},
   "outputs": [
    {
     "name": "stdout",
     "output_type": "stream",
     "text": [
      "False\n"
     ]
    }
   ],
   "source": [
    "# 3) not\n",
    "\n",
    "a = 50\n",
    "b = 30\n",
    "print(not (a>b))"
   ]
  },
  {
   "cell_type": "code",
   "execution_count": 102,
   "id": "56777297-c046-41cf-9772-dc7b6f75fdea",
   "metadata": {},
   "outputs": [
    {
     "name": "stdout",
     "output_type": "stream",
     "text": [
      "12.25\n",
      "ramram\n"
     ]
    }
   ],
   "source": [
    "# Type casting\n",
    "\n",
    "a = int('2')\n",
    "b = 10.25\n",
    "print(a+b)\n",
    "\n",
    "name = 'ram'\n",
    "value = 2\n",
    "print(name*value)"
   ]
  },
  {
   "cell_type": "code",
   "execution_count": 106,
   "id": "51977266-44af-4935-b4d6-3f3cf6dd8fba",
   "metadata": {},
   "outputs": [
    {
     "name": "stdin",
     "output_type": "stream",
     "text": [
      "enter your name ram\n"
     ]
    },
    {
     "name": "stdout",
     "output_type": "stream",
     "text": [
      "welcome : ram\n"
     ]
    }
   ],
   "source": [
    "# Input in Python\n",
    "# input statement is use to accept values from user\n",
    "\n",
    "name = input('enter your name')\n",
    "print('welcome :', name)"
   ]
  },
  {
   "cell_type": "code",
   "execution_count": 108,
   "id": "4ae8de0e-1d68-4ba6-94a3-9841ead8516a",
   "metadata": {},
   "outputs": [
    {
     "name": "stdin",
     "output_type": "stream",
     "text": [
      "enter your name ram\n",
      "enter your age 27\n",
      "enter your marks 99.9\n"
     ]
    },
    {
     "name": "stdout",
     "output_type": "stream",
     "text": [
      "ram\n",
      "27\n",
      "99.9\n"
     ]
    }
   ],
   "source": [
    "name = input('enter your name')\n",
    "agge = int(input('enter your age'))\n",
    "marks = float(input('enter your marks'))\n",
    "print(name)\n",
    "print(age)\n",
    "print(marks)"
   ]
  },
  {
   "cell_type": "code",
   "execution_count": 110,
   "id": "a885a5f7-6c09-429c-9d32-ef5d98cea7e4",
   "metadata": {},
   "outputs": [
    {
     "name": "stdin",
     "output_type": "stream",
     "text": [
      "enter first num 10\n",
      "enter second num 20\n"
     ]
    },
    {
     "name": "stdout",
     "output_type": "stream",
     "text": [
      "The sum two number is : 30\n"
     ]
    }
   ],
   "source": [
    "# write a program to input 2 numbers & print their sum\n",
    "\n",
    "num1 = int(input('enter first num'))\n",
    "num2 = int(input('enter second num'))\n",
    "print(\"The sum two number is :\",num1+num2)"
   ]
  },
  {
   "cell_type": "code",
   "execution_count": 116,
   "id": "49bb4ac3-9f75-4b19-8137-1912fad76dcf",
   "metadata": {},
   "outputs": [
    {
     "name": "stdin",
     "output_type": "stream",
     "text": [
      "enter a value 4\n"
     ]
    },
    {
     "name": "stdout",
     "output_type": "stream",
     "text": [
      "16\n"
     ]
    }
   ],
   "source": [
    "# area of square\n",
    "from math import pi\n",
    "a = int(input('enter a value'))\n",
    "print(a**2)"
   ]
  },
  {
   "cell_type": "code",
   "execution_count": 118,
   "id": "4f23e454-10f6-4025-a27e-9d24b056680f",
   "metadata": {},
   "outputs": [
    {
     "name": "stdin",
     "output_type": "stream",
     "text": [
      "enter first num 10\n",
      "enter second num 20\n"
     ]
    },
    {
     "name": "stdout",
     "output_type": "stream",
     "text": [
      "average of two num is : 15.0\n"
     ]
    }
   ],
   "source": [
    "# WAP to input 2 floating point numbers & print their average\n",
    "\n",
    "a = float(input('enter first num'))\n",
    "b = float(input('enter second num'))\n",
    "avg = (a+b)/2\n",
    "print('average of two num is :', avg)"
   ]
  },
  {
   "cell_type": "code",
   "execution_count": 128,
   "id": "4f7aa750-a060-4c5e-965a-e72917805d5d",
   "metadata": {},
   "outputs": [
    {
     "name": "stdin",
     "output_type": "stream",
     "text": [
      "enter first num 10\n",
      "enter second num 20\n"
     ]
    },
    {
     "name": "stdout",
     "output_type": "stream",
     "text": [
      "False\n"
     ]
    }
   ],
   "source": [
    "# WAP to input 2 int numbers, a and b\n",
    "# print True if a is greater than or equal to b. if not print False\n",
    "\n",
    "a = int(input('enter first num'))\n",
    "b = int(input('enter second num'))\n",
    "print(a >= b)"
   ]
  },
  {
   "cell_type": "markdown",
   "id": "3dfcbee4-8c19-4f0e-8090-4c63c828eb05",
   "metadata": {},
   "source": [
    "# Day 2"
   ]
  },
  {
   "cell_type": "markdown",
   "id": "3dbd357c-7d65-4e06-a27d-3d1af6c85cd7",
   "metadata": {},
   "source": [
    "### String\n",
    "#### String is data type that stores a sequence of characters"
   ]
  },
  {
   "cell_type": "code",
   "execution_count": 13,
   "id": "63a88b2f-5ebb-4c9e-96f7-1c3fb6a4064a",
   "metadata": {},
   "outputs": [
    {
     "name": "stdout",
     "output_type": "stream",
     "text": [
      "This is a string.\n",
      "we are creating it in python.\n",
      "This is a string.\twe are creating it in python.\n"
     ]
    }
   ],
   "source": [
    "str1 = 'This is a string.\\nwe are creating it in python.'  #\\n-- next line\n",
    "print(str1)\n",
    "\n",
    "str1 = 'This is a string.\\twe are creating it in python.'  #\\t --- tab space\n",
    "print(str1)"
   ]
  },
  {
   "cell_type": "code",
   "execution_count": 23,
   "id": "c2381de8-e3cb-448f-a35d-fcb258f1e632",
   "metadata": {},
   "outputs": [
    {
     "name": "stdout",
     "output_type": "stream",
     "text": [
      "rameklare\n",
      "ram eklare\n"
     ]
    }
   ],
   "source": [
    "# concatenation\n",
    "str1 = 'ram'\n",
    "str2 = 'eklare'\n",
    "final_str1 = str1 + str2\n",
    "final_str2 = str1 + \" \" + str2\n",
    "print(final_str1)\n",
    "print(final_str2)"
   ]
  },
  {
   "cell_type": "code",
   "execution_count": 25,
   "id": "6513f33f-46a3-449d-bd15-ad031f17a741",
   "metadata": {},
   "outputs": [
    {
     "name": "stdout",
     "output_type": "stream",
     "text": [
      "9\n"
     ]
    }
   ],
   "source": [
    "# length of string\n",
    "name = 'rameklare'\n",
    "print(len(name))"
   ]
  },
  {
   "cell_type": "code",
   "execution_count": 43,
   "id": "87fba9b8-8c06-48ae-8a8d-ad512a7f8b2c",
   "metadata": {},
   "outputs": [
    {
     "name": "stdout",
     "output_type": "stream",
     "text": [
      "r\n",
      "a\n",
      "e\n",
      "ar\n",
      "ame\n",
      "ameklare\n",
      "rame\n",
      "rameklare\n"
     ]
    }
   ],
   "source": [
    "# Indexing & Slicing\n",
    "\n",
    "name = 'rameklare'\n",
    "print(name[0])\n",
    "print(name[1])\n",
    "print(name[-1])\n",
    "print(name[-3 : -1])\n",
    "print(name[1:4])\n",
    "print(name[1:])\n",
    "print(name[:4])\n",
    "print(name[:])"
   ]
  },
  {
   "cell_type": "code",
   "execution_count": 79,
   "id": "cae57363-738a-4953-a70e-ac7aa6611dc4",
   "metadata": {},
   "outputs": [
    {
     "name": "stdout",
     "output_type": "stream",
     "text": [
      "True\n",
      "I AM A CODER\n",
      "i am a coder\n",
      "i AM A CODER\n",
      "I Am A Coder\n",
      "I am a coder\n",
      "I am a programmer\n",
      "7\n",
      "2\n",
      "False\n",
      "False\n",
      "False\n"
     ]
    }
   ],
   "source": [
    "# String function\n",
    "\n",
    "str = 'I am a coder'\n",
    "print(str.endswith('er'))  # return True if str ends with substr\n",
    "print(str.upper())\n",
    "print(str.lower())\n",
    "print(str.swapcase())\n",
    "print(str.title())\n",
    "print(str.capitalize())\n",
    "print(str.replace('coder','programmer'))\n",
    "print(str.find('coder')) # return 1st index of 1st occurence\n",
    "print(str.count('a'))\n",
    "print(str.isalnum()). \n",
    "print(str.isalpha())\n",
    "print(str.isdigit())"
   ]
  },
  {
   "cell_type": "code",
   "execution_count": 81,
   "id": "dee9c727-4a9f-40e5-8830-8e3ad7c6b426",
   "metadata": {},
   "outputs": [
    {
     "name": "stdin",
     "output_type": "stream",
     "text": [
      "enter your name ram\n"
     ]
    },
    {
     "name": "stdout",
     "output_type": "stream",
     "text": [
      "3\n"
     ]
    }
   ],
   "source": [
    "# Lets practice\n",
    "# WAP to input users first name & print its length\n",
    "\n",
    "name = input('enter your name')\n",
    "print(len(name))"
   ]
  },
  {
   "cell_type": "code",
   "execution_count": 83,
   "id": "58755536-edbb-4afa-8306-c8a9595c8478",
   "metadata": {},
   "outputs": [
    {
     "data": {
      "text/plain": [
       "2"
      ]
     },
     "execution_count": 83,
     "metadata": {},
     "output_type": "execute_result"
    }
   ],
   "source": [
    "# WAP to find occurence of $ in a string\n",
    "\n",
    "str = 'i am $ram eklare fr$m pune'\n",
    "str.count('$')"
   ]
  },
  {
   "cell_type": "markdown",
   "id": "eb1f0dec-1fd9-4526-851b-463fe8cc0333",
   "metadata": {},
   "source": [
    "### Conditional Statements"
   ]
  },
  {
   "cell_type": "code",
   "execution_count": 87,
   "id": "a71a8f99-b164-41e7-8b19-548598b72985",
   "metadata": {},
   "outputs": [
    {
     "name": "stdout",
     "output_type": "stream",
     "text": [
      "You can vote and apply for licence\n"
     ]
    }
   ],
   "source": [
    "# if-elif-else  (SYNTAX)\n",
    "# if statement\n",
    "age = 24\n",
    "if age >= 16:\n",
    "    print('You can vote and apply for licence')"
   ]
  },
  {
   "cell_type": "code",
   "execution_count": 89,
   "id": "29fc5913-85ed-455b-bc69-aa9707469089",
   "metadata": {},
   "outputs": [
    {
     "name": "stdout",
     "output_type": "stream",
     "text": [
      "Go\n"
     ]
    }
   ],
   "source": [
    "# if-elif\n",
    "\n",
    "light = 'green'\n",
    "if light == 'red':\n",
    "    print('Stop')\n",
    "elif light == 'green':\n",
    "    print('Go')\n",
    "elif light == 'yellow':\n",
    "    print('Look')"
   ]
  },
  {
   "cell_type": "code",
   "execution_count": 91,
   "id": "cedbec7d-c3e9-47dd-b843-665dbc8e4f42",
   "metadata": {},
   "outputs": [
    {
     "name": "stdout",
     "output_type": "stream",
     "text": [
      "light is broken\n"
     ]
    }
   ],
   "source": [
    "# if-elif-else\n",
    "\n",
    "light = 'pink'\n",
    "if light == 'red':\n",
    "    print('Stop')\n",
    "elif light == 'green':\n",
    "    print('Go')\n",
    "elif light == 'yellow':\n",
    "    print('Look')\n",
    "else:\n",
    "    print('light is broken')"
   ]
  },
  {
   "cell_type": "code",
   "execution_count": 101,
   "id": "2ac9b9ec-ab94-46d5-b42b-70084cbf1ee0",
   "metadata": {},
   "outputs": [
    {
     "name": "stdin",
     "output_type": "stream",
     "text": [
      "enter marks 75\n"
     ]
    },
    {
     "name": "stdout",
     "output_type": "stream",
     "text": [
      "C\n"
     ]
    }
   ],
   "source": [
    "marks = int(input('enter marks'))\n",
    "if marks >= 90:\n",
    "    print('A')\n",
    "elif marks >= 80:\n",
    "    print('B')\n",
    "elif marks >= 70:\n",
    "    print(\"C\")\n",
    "else:\n",
    "    print('D')\n",
    "    "
   ]
  },
  {
   "cell_type": "code",
   "execution_count": 105,
   "id": "8d8c45b1-77b0-43c5-ac6c-b2a221ed2c7c",
   "metadata": {},
   "outputs": [
    {
     "name": "stdout",
     "output_type": "stream",
     "text": [
      "cannot drive\n"
     ]
    }
   ],
   "source": [
    "# nesting\n",
    "\n",
    "age = 81\n",
    "if age >= 18:\n",
    "    if age >=80:\n",
    "        print('cannot drive')\n",
    "    else:\n",
    "        print('can drive')\n",
    "else:\n",
    "    print('cannot drive')"
   ]
  },
  {
   "cell_type": "code",
   "execution_count": 111,
   "id": "bac9da19-e8c3-4cef-bc7b-42393fa84fd5",
   "metadata": {},
   "outputs": [
    {
     "name": "stdin",
     "output_type": "stream",
     "text": [
      "enter a num 1\n"
     ]
    },
    {
     "name": "stdout",
     "output_type": "stream",
     "text": [
      "Odd\n"
     ]
    }
   ],
   "source": [
    "# WAP to check if a number entered by the user is odd or even\n",
    "num = int(input('enter a num'))\n",
    "if num%2 == 0:\n",
    "    print('Even')\n",
    "else:\n",
    "    print('Odd')"
   ]
  },
  {
   "cell_type": "code",
   "execution_count": 115,
   "id": "597dc76d-61fa-4b90-ab44-2901074bad01",
   "metadata": {},
   "outputs": [
    {
     "name": "stdin",
     "output_type": "stream",
     "text": [
      "enter first num 30\n",
      "enter second num 10\n",
      "enter third num 20\n"
     ]
    },
    {
     "name": "stdout",
     "output_type": "stream",
     "text": [
      "30\n"
     ]
    }
   ],
   "source": [
    "# WAP to find the greatest of 3 numbers entered by the user\n",
    "\n",
    "n1 = int(input('enter first num')) \n",
    "n2 = int(input('enter second num'))\n",
    "n3 = int(input('enter third num'))\n",
    "\n",
    "if n1 > n2 and n1 > n3:\n",
    "    print(n1)\n",
    "elif n2 > n1 and n2 > n3:\n",
    "    print(n2)\n",
    "elif n3 > n1 and n3 > n2:\n",
    "    print(n3)"
   ]
  },
  {
   "cell_type": "code",
   "execution_count": 121,
   "id": "37415dbe-5ae1-416b-b4d1-3f96ae7e3a47",
   "metadata": {},
   "outputs": [
    {
     "name": "stdin",
     "output_type": "stream",
     "text": [
      "enter a num 25\n"
     ]
    },
    {
     "name": "stdout",
     "output_type": "stream",
     "text": [
      "Not\n"
     ]
    }
   ],
   "source": [
    "# WAP to check if a number is a multiple of 7 or not\n",
    "\n",
    "num = int(input('enter a num'))\n",
    "if num%7 == 0:\n",
    "    print('multiple of seven')\n",
    "else:\n",
    "    print('Not')"
   ]
  },
  {
   "cell_type": "markdown",
   "id": "ac56dc9b-0920-486e-9e14-95685b42b660",
   "metadata": {},
   "source": [
    "# List"
   ]
  },
  {
   "cell_type": "code",
   "execution_count": 138,
   "id": "de087556-9f36-42fd-aacf-a3b966ca0512",
   "metadata": {},
   "outputs": [
    {
     "name": "stdout",
     "output_type": "stream",
     "text": [
      "[90, 40, 20, 50]\n",
      "[100, 40, 20, 50]\n"
     ]
    }
   ],
   "source": [
    "marks = [90,40,20,50]\n",
    "print(marks)\n",
    "marks[0]=100\n",
    "print(marks)"
   ]
  },
  {
   "cell_type": "code",
   "execution_count": 141,
   "id": "0bd627d0-aaa3-43e5-807d-704706541814",
   "metadata": {},
   "outputs": [
    {
     "name": "stdout",
     "output_type": "stream",
     "text": [
      "['ram', 27, 99.6, 'pune']\n"
     ]
    }
   ],
   "source": [
    "# all data types are stored in a list\n",
    "list = ['ram',27,99.6,'pune']\n",
    "print(list)"
   ]
  },
  {
   "cell_type": "code",
   "execution_count": 151,
   "id": "175642f8-5267-4e07-961e-62417886c4eb",
   "metadata": {},
   "outputs": [
    {
     "name": "stdout",
     "output_type": "stream",
     "text": [
      "[94, 76, 63]\n",
      "[85, 94, 76, 63]\n",
      "[76, 63]\n"
     ]
    }
   ],
   "source": [
    "# List slicing\n",
    "marks = [85, 94, 76, 63, 48]\n",
    "print(marks[1:4])\n",
    "print(marks[0:4])\n",
    "print(marks[-3:-1])"
   ]
  },
  {
   "cell_type": "markdown",
   "id": "b318f799-8f8d-4ac9-afdf-6736eead3312",
   "metadata": {},
   "source": [
    "#### List Methods"
   ]
  },
  {
   "cell_type": "code",
   "execution_count": 198,
   "id": "c5650f1f-6015-4854-ae34-924427429544",
   "metadata": {},
   "outputs": [
    {
     "name": "stdout",
     "output_type": "stream",
     "text": [
      "[2, 1, 4, 3, 5]\n",
      "[5, 3, 4, 1, 2]\n",
      "[1, 2, 3, 4, 5]\n",
      "[1, 100, 2, 3, 4, 5]\n",
      "[1, 2, 3, 4, 5]\n",
      "[1, 2, 3, 4]\n"
     ]
    }
   ],
   "source": [
    "list = [2,1,4,3]\n",
    "list.append(5)\n",
    "print(list)\n",
    "\n",
    "list.reverse()\n",
    "print(list)\n",
    "\n",
    "list.sort()\n",
    "print(list)\n",
    "\n",
    "list.insert(1,100)  # insert element at specific index\n",
    "print(list)\n",
    "\n",
    "list.remove(100)\n",
    "print(list)\n",
    "\n",
    "list.pop()\n",
    "print(list)\n"
   ]
  },
  {
   "cell_type": "code",
   "execution_count": 192,
   "id": "e3b710a6-ac91-4151-8b48-1c80d711fc0b",
   "metadata": {},
   "outputs": [
    {
     "data": {
      "text/plain": [
       "[2, 1, 4, 6, 9, 3]"
      ]
     },
     "execution_count": 192,
     "metadata": {},
     "output_type": "execute_result"
    }
   ],
   "source": [
    "l1 = [2,1,4]\n",
    "l2 = [6,9,3]\n",
    "l1.extend(l2)\n",
    "l1"
   ]
  },
  {
   "cell_type": "code",
   "execution_count": 204,
   "id": "c945dc72-2765-4057-818f-7663852be2f8",
   "metadata": {},
   "outputs": [
    {
     "name": "stdout",
     "output_type": "stream",
     "text": [
      "2\n",
      "1\n"
     ]
    }
   ],
   "source": [
    "list = [1,4,2,2,6,9,3]\n",
    "print(list.count(2))\n",
    "print(list.index(4))"
   ]
  },
  {
   "cell_type": "code",
   "execution_count": 210,
   "id": "afe06870-6cf1-438e-bfea-2cb4fba73c40",
   "metadata": {},
   "outputs": [
    {
     "name": "stdout",
     "output_type": "stream",
     "text": [
      "[1, 4, 9, 16, 25, 36, 49, 64, 81, 100]\n",
      "[2, 4, 8, 16, 32]\n"
     ]
    }
   ],
   "source": [
    "# List comprehension\n",
    "\n",
    "s = [x*x for x in range(1,11)]\n",
    "print(s)\n",
    "\n",
    "v = [2**x for x in range(1,6)]\n",
    "print(v)"
   ]
  },
  {
   "cell_type": "markdown",
   "id": "50cc0812-912e-4d93-88de-d5e74f627c19",
   "metadata": {},
   "source": [
    "## Tuples"
   ]
  },
  {
   "cell_type": "code",
   "execution_count": 213,
   "id": "7b16cbf4-2c98-48f2-a786-25ea05217231",
   "metadata": {},
   "outputs": [],
   "source": [
    "# Tuple creation\n",
    "# 1) t = ()\n",
    "# 2) t = (10,)  # without comma its not consider a tuple\n",
    "# 30 t = (10,20,30)"
   ]
  },
  {
   "cell_type": "code",
   "execution_count": 215,
   "id": "779b6e12-fe21-4476-83bd-f5a7e6a2b1e7",
   "metadata": {},
   "outputs": [
    {
     "name": "stdout",
     "output_type": "stream",
     "text": [
      "<class 'tuple'>\n"
     ]
    }
   ],
   "source": [
    "tup = (1,2,3)\n",
    "print(type(tup))"
   ]
  },
  {
   "cell_type": "code",
   "execution_count": 217,
   "id": "f743e4e5-5121-43ca-81a9-5644f8c84be2",
   "metadata": {},
   "outputs": [
    {
     "data": {
      "text/plain": [
       "1"
      ]
     },
     "execution_count": 217,
     "metadata": {},
     "output_type": "execute_result"
    }
   ],
   "source": [
    "tup = (1,2,3)\n",
    "tup[0]"
   ]
  },
  {
   "cell_type": "markdown",
   "id": "41350580-cdb3-4722-9632-a4080b7d1073",
   "metadata": {},
   "source": [
    "#### Tuple Methods"
   ]
  },
  {
   "cell_type": "code",
   "execution_count": 236,
   "id": "83689ccb-091d-4ef8-a6ee-adaa50760e48",
   "metadata": {},
   "outputs": [
    {
     "name": "stdout",
     "output_type": "stream",
     "text": [
      "6\n",
      "2\n",
      "1\n"
     ]
    }
   ],
   "source": [
    "tup = (2,7,4,1,9,4)\n",
    "print(len(tup))\n",
    "print(tup.count(4))\n",
    "print(tup.index(7))\n"
   ]
  },
  {
   "cell_type": "code",
   "execution_count": 244,
   "id": "78a8bb84-2910-43e5-84f6-680da9cd343a",
   "metadata": {},
   "outputs": [
    {
     "name": "stdout",
     "output_type": "stream",
     "text": [
      "[1, 2, 3, 5, 9]\n",
      "[9, 5, 3, 2, 1]\n"
     ]
    }
   ],
   "source": [
    "t = (3,5,1,9,2)\n",
    "t1 = sorted(t)\n",
    "print(t1)\n",
    "t2 = sorted(t,reverse=True)\n",
    "print(t2)"
   ]
  },
  {
   "cell_type": "code",
   "execution_count": 250,
   "id": "cd189180-c4cd-4f11-a6f2-242561867e8b",
   "metadata": {},
   "outputs": [
    {
     "name": "stdout",
     "output_type": "stream",
     "text": [
      "10\n",
      "90\n"
     ]
    }
   ],
   "source": [
    "# min() and max() function\n",
    "t =(10,90,20)\n",
    "print(min(t))\n",
    "print(max(t))"
   ]
  },
  {
   "cell_type": "code",
   "execution_count": 257,
   "id": "380ee770-b35b-461f-ae90-1bf33a80820c",
   "metadata": {},
   "outputs": [
    {
     "name": "stdout",
     "output_type": "stream",
     "text": [
      "(10, 20, 30, 40)\n"
     ]
    }
   ],
   "source": [
    "# Tuple packing and unpacking\n",
    "# packing\n",
    "a = 10\n",
    "b = 20\n",
    "c = 30\n",
    "d = 40\n",
    "t = a,b,c,d\n",
    "print(t)"
   ]
  },
  {
   "cell_type": "code",
   "execution_count": 259,
   "id": "4ed03f5c-6332-4ccf-95f5-29a6785082de",
   "metadata": {},
   "outputs": [
    {
     "name": "stdout",
     "output_type": "stream",
     "text": [
      "10 20 30 40\n"
     ]
    }
   ],
   "source": [
    "# Unpacking\n",
    "t = (10,20,30,40)\n",
    "a,b,c,d = t\n",
    "print(a,b,c,d)"
   ]
  },
  {
   "cell_type": "code",
   "execution_count": 269,
   "id": "f43694b4-7b99-4852-b0a1-96e96991dada",
   "metadata": {},
   "outputs": [
    {
     "name": "stdout",
     "output_type": "stream",
     "text": [
      "1\n",
      "4\n",
      "9\n",
      "16\n",
      "25\n"
     ]
    }
   ],
   "source": [
    "# Tuple comprehension\n",
    "tup = (x**2 for x in range(1,6))\n",
    "for x in tup:\n",
    "    print(x)"
   ]
  },
  {
   "cell_type": "code",
   "execution_count": 279,
   "id": "df553a32-94c9-459d-963e-730f25a34926",
   "metadata": {},
   "outputs": [
    {
     "name": "stdin",
     "output_type": "stream",
     "text": [
      "enter a tuple (1,2,3)\n"
     ]
    },
    {
     "name": "stdout",
     "output_type": "stream",
     "text": [
      "6\n",
      "2.0\n"
     ]
    }
   ],
   "source": [
    "# sum of number\n",
    "t = eval(input('enter a tuple'))\n",
    "sum = 0\n",
    "for i in t:\n",
    "    sum = sum+i\n",
    "print(sum)\n",
    "print(sum/len(t))"
   ]
  },
  {
   "cell_type": "code",
   "execution_count": 281,
   "id": "2a835520-8f7d-43c6-aae6-f836a16d0ca2",
   "metadata": {},
   "outputs": [
    {
     "name": "stdin",
     "output_type": "stream",
     "text": [
      "enter first movie KGF\n",
      "enter second movie Baghi\n",
      "enter third movie Rocky\n"
     ]
    },
    {
     "name": "stdout",
     "output_type": "stream",
     "text": [
      "['KGF', 'Baghi', 'Rocky']\n"
     ]
    }
   ],
   "source": [
    "m1 = input('enter first movie')\n",
    "m2 = input('enter second movie')\n",
    "m3 = input('enter third movie')\n",
    "movies = [m1,m2,m3]\n",
    "print(movies)"
   ]
  },
  {
   "cell_type": "code",
   "execution_count": 287,
   "id": "d5c592f2-080a-4f11-ae3c-f427cf8cdaa6",
   "metadata": {},
   "outputs": [
    {
     "name": "stdout",
     "output_type": "stream",
     "text": [
      "P\n"
     ]
    }
   ],
   "source": [
    "# WAP to check if a list contains a palindome of element\n",
    "\n",
    "list = [1,2,3,2,1]\n",
    "list_copy = list.copy()\n",
    "list_copy.reverse()\n",
    "if list_copy == list:\n",
    "    print('P')\n",
    "else:\n",
    "    print('Not')"
   ]
  },
  {
   "cell_type": "code",
   "execution_count": 9,
   "id": "424801f9-1b3c-4f0e-ac29-6ecb63ffa4a4",
   "metadata": {},
   "outputs": [
    {
     "name": "stdout",
     "output_type": "stream",
     "text": [
      "3\n",
      "['A', 'A', 'A', 'B', 'B', 'C', 'D']\n"
     ]
    }
   ],
   "source": [
    "# WAP to count the num of students with the 'A' grade in the following tuple\n",
    "tup = ('C','D','A','A','B','B','A')\n",
    "print(tup.count('A'))\n",
    "tup1 = list(tup)\n",
    "tup1.sort()\n",
    "print(tup1)"
   ]
  },
  {
   "cell_type": "markdown",
   "id": "dede0715-df71-4a3f-aaa5-648bd89e6c1c",
   "metadata": {},
   "source": [
    "## Dictionary"
   ]
  },
  {
   "cell_type": "code",
   "execution_count": 74,
   "id": "7b06a641-e335-4704-a31f-d3a11e434b33",
   "metadata": {},
   "outputs": [
    {
     "name": "stdout",
     "output_type": "stream",
     "text": [
      "{'name': 'Ram', 'Age': 27, 'City': 'Pune', 'Marks': 95.5}\n",
      "dict_keys(['name', 'Age', 'City', 'Marks'])\n",
      "dict_values(['Ram', 27, 'Pune', 95.5])\n",
      "dict_items([('name', 'Ram'), ('Age', 27), ('City', 'Pune'), ('Marks', 95.5)])\n",
      "{'name': 'Rambo', 'Age': 27, 'City': 'Pune', 'Marks': 95.5, 'surname': 'Eklare'}\n"
     ]
    }
   ],
   "source": [
    "info = {\n",
    "    'name' : 'Ram',\n",
    "    'Age' : 27,\n",
    "    'City' : 'Pune',\n",
    "    'Marks' : 95.5\n",
    "}\n",
    "print(info)\n",
    "print(dict.keys(info))\n",
    "print(dict.values(info))\n",
    "print(dict.items(info))\n",
    "\n",
    "\n",
    "info['name'] = 'Rambo'\n",
    "info['surname'] = 'Eklare'\n",
    "print(info)"
   ]
  },
  {
   "cell_type": "code",
   "execution_count": 76,
   "id": "ea0de5b6-f582-4687-954d-e6a2d6b1997b",
   "metadata": {},
   "outputs": [
    {
     "name": "stdout",
     "output_type": "stream",
     "text": [
      "{'College': 'CDAC'}\n"
     ]
    }
   ],
   "source": [
    "null_dict = {}\n",
    "null_dict['College'] = 'CDAC'\n",
    "print(null_dict)"
   ]
  },
  {
   "cell_type": "code",
   "execution_count": 78,
   "id": "e9dc4dcb-e8f4-4df7-b0bc-f7699ebf4cbb",
   "metadata": {},
   "outputs": [
    {
     "name": "stdout",
     "output_type": "stream",
     "text": [
      "{'name': 'Ram', 'Marks': {'Python': 80, 'Java': 90}}\n",
      "80\n"
     ]
    }
   ],
   "source": [
    "# Nested Dictionary\n",
    "\n",
    "student = {\n",
    "    'name' : 'Ram',\n",
    "    'Marks' : {\n",
    "        'Python' : 80,\n",
    "        'Java' : 90\n",
    "    }\n",
    "}\n",
    "print(student)\n",
    "print(student['Marks']['Python'])"
   ]
  },
  {
   "cell_type": "code",
   "execution_count": 82,
   "id": "c0783180-2420-415b-b348-5f4cf770b169",
   "metadata": {},
   "outputs": [
    {
     "name": "stdout",
     "output_type": "stream",
     "text": [
      "{1: 1, 2: 4, 3: 9, 4: 16, 5: 25}\n",
      "{1: 2, 2: 4, 3: 6, 4: 8, 5: 10}\n"
     ]
    }
   ],
   "source": [
    "# Dictionary Comprehension\n",
    "\n",
    "squares = {x:x*x for x in range(1,6)}\n",
    "print(squares)\n",
    "\n",
    "doubles = {x:2*x for x in range(1,6)}\n",
    "print(doubles)"
   ]
  },
  {
   "cell_type": "markdown",
   "id": "0d4156cb-7e22-49f8-aadb-2bdfeddd6b92",
   "metadata": {},
   "source": [
    "## Set"
   ]
  },
  {
   "cell_type": "code",
   "execution_count": 107,
   "id": "22a5712e-a7cd-4798-bbe5-7ed0b64f0ac6",
   "metadata": {},
   "outputs": [
    {
     "name": "stdout",
     "output_type": "stream",
     "text": [
      "{1, 2, 3, 4}\n",
      "<class 'set'>\n"
     ]
    }
   ],
   "source": [
    "sett = {1,2,3,4}\n",
    "print(sett)\n",
    "print(type(sett))"
   ]
  },
  {
   "cell_type": "code",
   "execution_count": 5,
   "id": "2129e5ed-d91e-40c4-beab-7eee3c00fac7",
   "metadata": {},
   "outputs": [
    {
     "name": "stdout",
     "output_type": "stream",
     "text": [
      "<class 'set'>\n",
      "{50}\n"
     ]
    }
   ],
   "source": [
    "# empty set\n",
    "colection = set()\n",
    "colection.add(50)\n",
    "print(type(colection))\n",
    "print(colection)"
   ]
  },
  {
   "cell_type": "code",
   "execution_count": 13,
   "id": "f5a8e82b-48cc-4903-8dd9-27a9f48b4bc9",
   "metadata": {},
   "outputs": [
    {
     "name": "stdout",
     "output_type": "stream",
     "text": [
      "{10, 50, 20, 90, 30}\n"
     ]
    }
   ],
   "source": [
    "# Set Methods\n",
    "# add()\n",
    "set = {10,50,20,30}\n",
    "set.add(90)\n",
    "print(set)"
   ]
  },
  {
   "cell_type": "code",
   "execution_count": 15,
   "id": "c7719cce-a8a4-436e-99a1-6e6cc41a5e94",
   "metadata": {},
   "outputs": [
    {
     "name": "stdout",
     "output_type": "stream",
     "text": [
      "{10, 50, 20, 30}\n"
     ]
    }
   ],
   "source": [
    "# remove()\n",
    "set.remove(90)\n",
    "print(set)"
   ]
  },
  {
   "cell_type": "code",
   "execution_count": 17,
   "id": "5fbf3cf0-e62f-49fa-92bd-dcaf700c4fb2",
   "metadata": {},
   "outputs": [
    {
     "name": "stdout",
     "output_type": "stream",
     "text": [
      "set()\n"
     ]
    }
   ],
   "source": [
    "# clear()\n",
    "set.clear()\n",
    "print(set)"
   ]
  },
  {
   "cell_type": "code",
   "execution_count": 21,
   "id": "ce7d0013-3733-4506-ba0f-bca8ea44a8aa",
   "metadata": {},
   "outputs": [
    {
     "name": "stdout",
     "output_type": "stream",
     "text": [
      "{2, 3, 4}\n"
     ]
    }
   ],
   "source": [
    "s1 = {1,2,3,4}\n",
    "s1.pop()\n",
    "print(s1)"
   ]
  },
  {
   "cell_type": "code",
   "execution_count": 23,
   "id": "45807941-c39d-4f49-83c6-cbd68cebe410",
   "metadata": {},
   "outputs": [
    {
     "name": "stdout",
     "output_type": "stream",
     "text": [
      "{40, 10, 50, 20, 60, 30}\n"
     ]
    }
   ],
   "source": [
    "# union \n",
    "x = {10,20,30,40}\n",
    "y = {30,40,50,60}\n",
    "print(x.union(y))"
   ]
  },
  {
   "cell_type": "code",
   "execution_count": 25,
   "id": "1766f197-523c-4688-b211-74291b166c1d",
   "metadata": {},
   "outputs": [
    {
     "name": "stdout",
     "output_type": "stream",
     "text": [
      "{40, 30}\n"
     ]
    }
   ],
   "source": [
    "# intersection\n",
    "print(x.intersection(y))"
   ]
  },
  {
   "cell_type": "code",
   "execution_count": 27,
   "id": "a7a60e5a-aa0e-404c-8727-a7b1605f6a03",
   "metadata": {},
   "outputs": [
    {
     "name": "stdout",
     "output_type": "stream",
     "text": [
      "{10, 20}\n"
     ]
    }
   ],
   "source": [
    "# difference\n",
    "print(x.difference(y))"
   ]
  },
  {
   "cell_type": "code",
   "execution_count": 29,
   "id": "3a9aaebb-f311-404c-a14d-f5b8a0d4db7e",
   "metadata": {},
   "outputs": [
    {
     "name": "stdout",
     "output_type": "stream",
     "text": [
      "{10, 50, 20, 60}\n"
     ]
    }
   ],
   "source": [
    "# symmetric_difference\n",
    "print(x.symmetric_difference(y))"
   ]
  },
  {
   "cell_type": "code",
   "execution_count": 34,
   "id": "0c1f551c-9f9c-4e94-9c17-8edb665ea1bc",
   "metadata": {},
   "outputs": [
    {
     "name": "stdin",
     "output_type": "stream",
     "text": [
      "enter phy : 90\n",
      "enter math : 60\n"
     ]
    },
    {
     "name": "stdout",
     "output_type": "stream",
     "text": [
      "{'phy': 90, 'math': 60}\n"
     ]
    }
   ],
   "source": [
    "marks = {}\n",
    "\n",
    "x = int(input('enter phy :'))\n",
    "marks.update({'phy':x})\n",
    "\n",
    "x = int(input('enter math :'))\n",
    "marks.update({'math':x})\n",
    "\n",
    "print(marks)"
   ]
  },
  {
   "cell_type": "markdown",
   "id": "8e26ca2d-2da8-42b4-927c-a80cd585b0a7",
   "metadata": {},
   "source": [
    "## Loops"
   ]
  },
  {
   "cell_type": "markdown",
   "id": "79628d30-dbab-4ad8-bf92-891a5743a3b4",
   "metadata": {},
   "source": [
    "#### While loop"
   ]
  },
  {
   "cell_type": "code",
   "execution_count": 19,
   "id": "9697b6c3-88d1-4f0f-a89a-318432216488",
   "metadata": {},
   "outputs": [
    {
     "name": "stdout",
     "output_type": "stream",
     "text": [
      "1\n",
      "2\n",
      "3\n",
      "4\n",
      "5\n"
     ]
    }
   ],
   "source": [
    "n = 1\n",
    "while n<=5:\n",
    "    print(n)\n",
    "    n = n+1"
   ]
  },
  {
   "cell_type": "code",
   "execution_count": 25,
   "id": "aee4bada-ec17-45ed-92f0-4c815ecc3600",
   "metadata": {},
   "outputs": [
    {
     "name": "stdout",
     "output_type": "stream",
     "text": [
      "5\n",
      "4\n",
      "3\n",
      "2\n",
      "1\n"
     ]
    }
   ],
   "source": [
    "n = 5\n",
    "while n>=1:\n",
    "    print(n)\n",
    "    n = n-1"
   ]
  },
  {
   "cell_type": "code",
   "execution_count": 27,
   "id": "b1ea785f-84e9-4160-a76f-60b0c66f03b5",
   "metadata": {},
   "outputs": [
    {
     "name": "stdout",
     "output_type": "stream",
     "text": [
      "Welcome 1\n",
      "Welcome 2\n",
      "Welcome 3\n",
      "Welcome 4\n",
      "Welcome 5\n",
      "Welcome 6\n",
      "Welcome 7\n",
      "Welcome 8\n",
      "Welcome 9\n",
      "Welcome 10\n"
     ]
    }
   ],
   "source": [
    "i = 1\n",
    "while i <= 10:\n",
    "    print('Welcome',i)\n",
    "    i += 1"
   ]
  },
  {
   "cell_type": "code",
   "execution_count": 29,
   "id": "fd00fa48-3941-4955-b3ac-7b98b4d1a2f7",
   "metadata": {},
   "outputs": [
    {
     "name": "stdout",
     "output_type": "stream",
     "text": [
      "1\n",
      "2\n",
      "3\n",
      "4\n",
      "5\n",
      "6\n",
      "7\n",
      "8\n",
      "9\n",
      "10\n",
      "11\n",
      "12\n",
      "13\n",
      "14\n",
      "15\n",
      "16\n",
      "17\n",
      "18\n",
      "19\n",
      "20\n",
      "21\n",
      "22\n",
      "23\n",
      "24\n",
      "25\n",
      "26\n",
      "27\n",
      "28\n",
      "29\n",
      "30\n",
      "31\n",
      "32\n",
      "33\n",
      "34\n",
      "35\n",
      "36\n",
      "37\n",
      "38\n",
      "39\n",
      "40\n",
      "41\n",
      "42\n",
      "43\n",
      "44\n",
      "45\n",
      "46\n",
      "47\n",
      "48\n",
      "49\n",
      "50\n",
      "51\n",
      "52\n",
      "53\n",
      "54\n",
      "55\n",
      "56\n",
      "57\n",
      "58\n",
      "59\n",
      "60\n",
      "61\n",
      "62\n",
      "63\n",
      "64\n",
      "65\n",
      "66\n",
      "67\n",
      "68\n",
      "69\n",
      "70\n",
      "71\n",
      "72\n",
      "73\n",
      "74\n",
      "75\n",
      "76\n",
      "77\n",
      "78\n",
      "79\n",
      "80\n",
      "81\n",
      "82\n",
      "83\n",
      "84\n",
      "85\n",
      "86\n",
      "87\n",
      "88\n",
      "89\n",
      "90\n",
      "91\n",
      "92\n",
      "93\n",
      "94\n",
      "95\n",
      "96\n",
      "97\n",
      "98\n",
      "99\n",
      "100\n"
     ]
    }
   ],
   "source": [
    "# Print numbers from 1 to 100\n",
    "n = 1\n",
    "while n<=100:\n",
    "    print(n)\n",
    "    n = n+1"
   ]
  },
  {
   "cell_type": "code",
   "execution_count": 35,
   "id": "e24e7046-8b1b-4aa7-aacc-a0ac88bbdc7f",
   "metadata": {},
   "outputs": [
    {
     "name": "stdout",
     "output_type": "stream",
     "text": [
      "100\n",
      "99\n",
      "98\n",
      "97\n",
      "96\n",
      "95\n",
      "94\n",
      "93\n",
      "92\n",
      "91\n",
      "90\n",
      "89\n",
      "88\n",
      "87\n",
      "86\n",
      "85\n",
      "84\n",
      "83\n",
      "82\n",
      "81\n",
      "80\n",
      "79\n",
      "78\n",
      "77\n",
      "76\n",
      "75\n",
      "74\n",
      "73\n",
      "72\n",
      "71\n",
      "70\n",
      "69\n",
      "68\n",
      "67\n",
      "66\n",
      "65\n",
      "64\n",
      "63\n",
      "62\n",
      "61\n",
      "60\n",
      "59\n",
      "58\n",
      "57\n",
      "56\n",
      "55\n",
      "54\n",
      "53\n",
      "52\n",
      "51\n",
      "50\n",
      "49\n",
      "48\n",
      "47\n",
      "46\n",
      "45\n",
      "44\n",
      "43\n",
      "42\n",
      "41\n",
      "40\n",
      "39\n",
      "38\n",
      "37\n",
      "36\n",
      "35\n",
      "34\n",
      "33\n",
      "32\n",
      "31\n",
      "30\n",
      "29\n",
      "28\n",
      "27\n",
      "26\n",
      "25\n",
      "24\n",
      "23\n",
      "22\n",
      "21\n",
      "20\n",
      "19\n",
      "18\n",
      "17\n",
      "16\n",
      "15\n",
      "14\n",
      "13\n",
      "12\n",
      "11\n",
      "10\n",
      "9\n",
      "8\n",
      "7\n",
      "6\n",
      "5\n",
      "4\n",
      "3\n",
      "2\n",
      "1\n"
     ]
    }
   ],
   "source": [
    "# print numbers from 100 to 1\n",
    "n = 100\n",
    "while n>=1:\n",
    "    print(n)\n",
    "    n = n-1"
   ]
  },
  {
   "cell_type": "code",
   "execution_count": 43,
   "id": "7eb0a9e6-3412-4cc3-8a44-3e8a3b48ef2f",
   "metadata": {},
   "outputs": [
    {
     "name": "stdout",
     "output_type": "stream",
     "text": [
      "2\n",
      "4\n",
      "6\n",
      "8\n",
      "10\n",
      "12\n",
      "14\n",
      "16\n",
      "18\n",
      "20\n"
     ]
    }
   ],
   "source": [
    "# print the multiplication table of a number n\n",
    "n = 1\n",
    "while n<=10:\n",
    "    print(n*2)\n",
    "    n = n+1"
   ]
  },
  {
   "cell_type": "code",
   "execution_count": 45,
   "id": "d470cdf9-ca58-4ee5-b7ab-4747c6b50c06",
   "metadata": {},
   "outputs": [
    {
     "name": "stdout",
     "output_type": "stream",
     "text": [
      "1\n",
      "4\n",
      "9\n",
      "16\n",
      "25\n",
      "36\n",
      "49\n",
      "64\n",
      "81\n",
      "100\n"
     ]
    }
   ],
   "source": [
    "n = 1\n",
    "while n<=10:\n",
    "    print(n**2)\n",
    "    n = n+1"
   ]
  },
  {
   "cell_type": "code",
   "execution_count": 49,
   "id": "46274ace-1627-49ce-89f3-6b6cf423e5a0",
   "metadata": {},
   "outputs": [
    {
     "name": "stdout",
     "output_type": "stream",
     "text": [
      "1\n",
      "4\n",
      "9\n",
      "16\n",
      "25\n",
      "36\n",
      "49\n",
      "64\n",
      "81\n",
      "100\n"
     ]
    }
   ],
   "source": [
    "nums = [1,4,9,16,25,36,49,64,81,100]\n",
    "idx = 0\n",
    "while idx < len(nums):\n",
    "    print(nums[idx])\n",
    "    idx = idx +1"
   ]
  },
  {
   "cell_type": "code",
   "execution_count": 9,
   "id": "3417ec90-70b8-4fa3-b058-d830463dde97",
   "metadata": {},
   "outputs": [
    {
     "name": "stdout",
     "output_type": "stream",
     "text": [
      "Found 5\n",
      "Found 10\n"
     ]
    }
   ],
   "source": [
    "nums = [1,4,9,16,25,36,49,64,81,100,36]\n",
    "x = 36\n",
    "idx = 0\n",
    "while idx < len(nums):\n",
    "    if nums[idx] == x:\n",
    "        print('Found', idx)\n",
    "    idx = idx+1"
   ]
  },
  {
   "cell_type": "code",
   "execution_count": 3,
   "id": "78118764-7213-464b-aca6-ac0bcfacedbf",
   "metadata": {},
   "outputs": [
    {
     "name": "stdout",
     "output_type": "stream",
     "text": [
      "1\n",
      "2\n",
      "3\n",
      "4\n",
      "5\n"
     ]
    }
   ],
   "source": [
    "# Break\n",
    "# Break is use to terminate the loop when encountered\n",
    "i = 1\n",
    "while i <= 10:\n",
    "    if i == 6:\n",
    "        break\n",
    "    print(i)\n",
    "    i += 1\n"
   ]
  },
  {
   "cell_type": "code",
   "execution_count": 3,
   "id": "140febc0-973e-4517-987c-9259e117b8f7",
   "metadata": {},
   "outputs": [
    {
     "name": "stdout",
     "output_type": "stream",
     "text": [
      "1\n",
      "2\n",
      "4\n",
      "5\n"
     ]
    }
   ],
   "source": [
    "# Continue-- skip the current iteration of a loop and move to the next iteration  \n",
    "i = 1\n",
    "while i <= 5:\n",
    "    if i == 3:\n",
    "        i = i + 1  # increment first\n",
    "        continue   # skip printing 3\n",
    "    print(i)\n",
    "    i = i + 1\n"
   ]
  },
  {
   "cell_type": "code",
   "execution_count": 7,
   "id": "02d545df-e022-4105-a1eb-8b8437ce08c1",
   "metadata": {},
   "outputs": [
    {
     "name": "stdout",
     "output_type": "stream",
     "text": [
      "1\n",
      "3\n",
      "5\n",
      "7\n",
      "9\n"
     ]
    }
   ],
   "source": [
    "# Odd number\n",
    "i = 1\n",
    "while i <= 10:\n",
    "    if i%2 == 0:\n",
    "        i = i+1\n",
    "        continue\n",
    "    print(i)\n",
    "    i = i+1"
   ]
  },
  {
   "cell_type": "code",
   "execution_count": 9,
   "id": "3297d609-dbf0-499b-a3b4-d2fdb6d33daa",
   "metadata": {},
   "outputs": [
    {
     "name": "stdout",
     "output_type": "stream",
     "text": [
      "2\n",
      "4\n",
      "6\n",
      "8\n",
      "10\n"
     ]
    }
   ],
   "source": [
    "# Even numbers\n",
    "i = 1\n",
    "while i <= 10:\n",
    "    if i%2 != 0:\n",
    "        i = i+1\n",
    "        continue\n",
    "    print(i)\n",
    "    i = i+1"
   ]
  },
  {
   "cell_type": "markdown",
   "id": "43dfb2a8-05ba-40e3-866d-c2398a9f31fc",
   "metadata": {},
   "source": [
    "#### For loop"
   ]
  },
  {
   "cell_type": "code",
   "execution_count": 14,
   "id": "4c6d4200-66c3-4583-b76f-633d366051f8",
   "metadata": {},
   "outputs": [
    {
     "name": "stdout",
     "output_type": "stream",
     "text": [
      "1\n",
      "2\n",
      "3\n",
      "4\n"
     ]
    }
   ],
   "source": [
    "num = [1,2,3,4]\n",
    "for val in num:\n",
    "    print(val)"
   ]
  },
  {
   "cell_type": "code",
   "execution_count": 16,
   "id": "faa7d14f-af8a-4f61-9108-a2a9c80f6253",
   "metadata": {},
   "outputs": [
    {
     "name": "stdout",
     "output_type": "stream",
     "text": [
      "r\n",
      "a\n",
      "m\n",
      "e\n",
      "k\n",
      "l\n",
      "a\n",
      "r\n",
      "e\n"
     ]
    }
   ],
   "source": [
    "name = 'rameklare'\n",
    "for char in name:\n",
    "    print(char)"
   ]
  },
  {
   "cell_type": "code",
   "execution_count": 18,
   "id": "fe72c249-c288-4a39-a4dd-1ac32cf62d4d",
   "metadata": {},
   "outputs": [
    {
     "name": "stdout",
     "output_type": "stream",
     "text": [
      "1\n",
      "4\n",
      "9\n",
      "16\n",
      "25\n",
      "36\n",
      "49\n",
      "64\n",
      "81\n",
      "100\n"
     ]
    }
   ],
   "source": [
    "# lets practice\n",
    "for i in range(1,11):\n",
    "    print(i**2)"
   ]
  },
  {
   "cell_type": "code",
   "execution_count": 3,
   "id": "585e6783-4fbe-4313-9c91-50a3717d9aa8",
   "metadata": {},
   "outputs": [
    {
     "name": "stdout",
     "output_type": "stream",
     "text": [
      "0\n",
      "1\n",
      "2\n",
      "3\n",
      "4\n"
     ]
    }
   ],
   "source": [
    "for i in range(5):\n",
    "    print(i)"
   ]
  },
  {
   "cell_type": "code",
   "execution_count": 5,
   "id": "b5a6c0a6-af5c-4c59-a0bc-d7bfbb9a97a9",
   "metadata": {},
   "outputs": [
    {
     "name": "stdout",
     "output_type": "stream",
     "text": [
      "1\n",
      "2\n",
      "3\n",
      "4\n",
      "5\n"
     ]
    }
   ],
   "source": [
    "for i in range(1,6):\n",
    "    print(i)"
   ]
  },
  {
   "cell_type": "code",
   "execution_count": 7,
   "id": "d1b87e47-a862-459e-b8e8-5764b4cea06b",
   "metadata": {},
   "outputs": [
    {
     "name": "stdout",
     "output_type": "stream",
     "text": [
      "1\n",
      "3\n",
      "5\n",
      "7\n",
      "9\n"
     ]
    }
   ],
   "source": [
    "for i in range(1,10,2):\n",
    "    print(i)"
   ]
  },
  {
   "cell_type": "code",
   "execution_count": 1,
   "id": "96a5e7a2-ea78-4a7d-aab0-eec0ce7df3ad",
   "metadata": {},
   "outputs": [
    {
     "name": "stdout",
     "output_type": "stream",
     "text": [
      "6\n"
     ]
    }
   ],
   "source": [
    "# WAP to find the sum of first n numbers\n",
    "n = 3\n",
    "sum = 0\n",
    "i = 1\n",
    "while i <= n:\n",
    "    sum = sum + i\n",
    "    i = i + 1   # increment i so the loop progresses\n",
    "print(sum)\n"
   ]
  },
  {
   "cell_type": "code",
   "execution_count": 17,
   "id": "6cd9c417-79fe-494f-882a-217f02350b38",
   "metadata": {},
   "outputs": [
    {
     "name": "stdout",
     "output_type": "stream",
     "text": [
      "24\n"
     ]
    }
   ],
   "source": [
    "# Fcatorial\n",
    "n = 4\n",
    "fact = 1\n",
    "for i in range(1,n+1):\n",
    "    fact = fact*i\n",
    "print(fact)"
   ]
  },
  {
   "cell_type": "code",
   "execution_count": 23,
   "id": "3c31b054-7ad5-4ed8-85a2-aa094e80fac1",
   "metadata": {},
   "outputs": [
    {
     "name": "stdout",
     "output_type": "stream",
     "text": [
      "10\n"
     ]
    }
   ],
   "source": [
    "# sum of num using for loop\n",
    "n = 4\n",
    "sum = 0\n",
    "for i in range(1,n+1):\n",
    "    sum = sum+i\n",
    "print(sum)"
   ]
  },
  {
   "cell_type": "markdown",
   "id": "74d63dac-293c-4061-8017-9aac2a11604b",
   "metadata": {},
   "source": [
    "#### Function and Recursion in python"
   ]
  },
  {
   "cell_type": "code",
   "execution_count": 15,
   "id": "f4745b65-2083-4f41-91b9-cd450e91388d",
   "metadata": {},
   "outputs": [
    {
     "name": "stdout",
     "output_type": "stream",
     "text": [
      "3\n",
      "4\n"
     ]
    }
   ],
   "source": [
    "# Function definition\n",
    "def sum(a,b):  # parameters a,b \n",
    "    s = a + b  \n",
    "    return s\n",
    "print(sum(1,2)) # argument 1,2\n",
    "print(sum(2,2))\n"
   ]
  },
  {
   "cell_type": "code",
   "execution_count": 17,
   "id": "a11a4c76-1991-453f-9358-7d6af560e810",
   "metadata": {},
   "outputs": [
    {
     "name": "stdout",
     "output_type": "stream",
     "text": [
      "4\n"
     ]
    }
   ],
   "source": [
    "def sum(a,b):\n",
    "    return a+b\n",
    "print(sum(1,3))"
   ]
  },
  {
   "cell_type": "code",
   "execution_count": 19,
   "id": "d8149889-931a-4b4a-a530-cf0d6b8fd0c6",
   "metadata": {},
   "outputs": [
    {
     "name": "stdout",
     "output_type": "stream",
     "text": [
      "2.0\n"
     ]
    }
   ],
   "source": [
    "# average of three numbers\n",
    "\n",
    "def avg(a,b,c):\n",
    "    return (a+b+c)/3\n",
    "print(avg(1,2,3))"
   ]
  },
  {
   "cell_type": "code",
   "execution_count": 23,
   "id": "0a2dbcb3-6192-4ed1-a619-87f37234dedb",
   "metadata": {},
   "outputs": [
    {
     "name": "stdout",
     "output_type": "stream",
     "text": [
      "ram eklare\n"
     ]
    }
   ],
   "source": [
    "print('ram', end = ' ')  # end = '\\n'\n",
    "print('eklare')"
   ]
  },
  {
   "cell_type": "code",
   "execution_count": 5,
   "id": "5e9fb977-4745-4529-b3f9-d7df8784bbf9",
   "metadata": {},
   "outputs": [
    {
     "name": "stdout",
     "output_type": "stream",
     "text": [
      "20\n"
     ]
    }
   ],
   "source": [
    "# default argument\n",
    "def cal_prod(a=10, b=2):\n",
    "    return a*b\n",
    "print(cal_prod())"
   ]
  },
  {
   "cell_type": "code",
   "execution_count": 7,
   "id": "22971da9-0161-437a-af81-ef11b16432ad",
   "metadata": {},
   "outputs": [
    {
     "name": "stdout",
     "output_type": "stream",
     "text": [
      "2.0\n"
     ]
    }
   ],
   "source": [
    "def cal_avg(a, b=2):\n",
    "    return (a+b)/2\n",
    "print(cal_avg(2))"
   ]
  },
  {
   "cell_type": "code",
   "execution_count": 19,
   "id": "a044f166-938d-4ac3-b310-a86e07166ad1",
   "metadata": {},
   "outputs": [
    {
     "name": "stdout",
     "output_type": "stream",
     "text": [
      "3\n"
     ]
    }
   ],
   "source": [
    "# WAF to print the length of a list.(list is the parameter)\n",
    "def len_list(list):\n",
    "    return len(list)\n",
    "list = [1,2,3]\n",
    "print(len_list(list))"
   ]
  },
  {
   "cell_type": "code",
   "execution_count": 21,
   "id": "f022746a-ecb6-4893-95d6-f5df8186e533",
   "metadata": {},
   "outputs": [
    {
     "name": "stdout",
     "output_type": "stream",
     "text": [
      "[1, 2, 3, 4]\n"
     ]
    }
   ],
   "source": [
    "# WAF to print the elements of a list in a single line.(list is the parameter)\n",
    "def list_ele(list):\n",
    "    return list\n",
    "list = [1,2,3,4]\n",
    "print(list_ele(list))"
   ]
  },
  {
   "cell_type": "code",
   "execution_count": 27,
   "id": "3d30775f-3666-443c-807e-140ba1cdf07a",
   "metadata": {},
   "outputs": [
    {
     "name": "stdout",
     "output_type": "stream",
     "text": [
      "6\n"
     ]
    }
   ],
   "source": [
    "# WAF to find the factorial of n.(n is the parameter)\n",
    "\n",
    "def fact(n):\n",
    "    fact = 1\n",
    "    for i in range(1,n+1):\n",
    "        fact = fact*i\n",
    "    print(fact)\n",
    "fact(3)"
   ]
  },
  {
   "cell_type": "markdown",
   "id": "0d21ce4c-e211-4500-a73e-1bcd772bf6b8",
   "metadata": {},
   "source": [
    "## Recursion"
   ]
  },
  {
   "cell_type": "code",
   "execution_count": 30,
   "id": "8d5c1103-00a0-4faf-ba24-df959839c650",
   "metadata": {},
   "outputs": [
    {
     "name": "stdout",
     "output_type": "stream",
     "text": [
      "120\n"
     ]
    }
   ],
   "source": [
    "# When a function calls itself repeatedly\n",
    "# Factorial using recursion\n",
    "def factorial(n):\n",
    "    if n == 0 or n == 1:            # Base case\n",
    "        return 1\n",
    "    else:\n",
    "        return n * factorial(n - 1)  # Recursive call\n",
    "\n",
    "print(factorial(5))  # Output: 120\n"
   ]
  },
  {
   "cell_type": "code",
   "execution_count": 38,
   "id": "f9b7a69d-d40d-4eff-8de1-48d76a873d7e",
   "metadata": {},
   "outputs": [
    {
     "name": "stdout",
     "output_type": "stream",
     "text": [
      "8\n"
     ]
    }
   ],
   "source": [
    "# Fibonacci using recursion\n",
    "def fibonacci(n):\n",
    "    if n <= 1:           # Base case\n",
    "        return n\n",
    "    else:\n",
    "        return fibonacci(n-1) + fibonacci(n-2)\n",
    "\n",
    "print(fibonacci(6))  # Output: 8\n"
   ]
  },
  {
   "cell_type": "code",
   "execution_count": 46,
   "id": "55166151-3525-477d-80ed-ece3461530fc",
   "metadata": {},
   "outputs": [
    {
     "name": "stdout",
     "output_type": "stream",
     "text": [
      "15\n"
     ]
    }
   ],
   "source": [
    "# sum\n",
    "\n",
    "def sum_n(n):\n",
    "    if n == 0:           # base case\n",
    "        return 0\n",
    "    else:\n",
    "        return n + sum_n(n - 1)  # recursive call\n",
    "\n",
    "print(sum_n(5))  # Output: 15\n"
   ]
  },
  {
   "cell_type": "markdown",
   "id": "71392490-85e7-4c40-bf04-d61fe131c4d0",
   "metadata": {},
   "source": [
    "# OOPS Concept"
   ]
  },
  {
   "cell_type": "code",
   "execution_count": 2,
   "id": "66653bf1-bc56-421e-b688-9463c2be30f3",
   "metadata": {},
   "outputs": [
    {
     "name": "stdout",
     "output_type": "stream",
     "text": [
      "ram eklare\n"
     ]
    }
   ],
   "source": [
    "# Class-- class is a blueprint for creating object\n",
    "# creating class\n",
    "\n",
    "class Student:\n",
    "    name = 'ram eklare'\n",
    "\n",
    "# creating object (instance)\n",
    "\n",
    "s1 = Student()\n",
    "print(s1.name)"
   ]
  },
  {
   "cell_type": "code",
   "execution_count": 4,
   "id": "5ffb15c7-2507-4184-8a84-60ba57f71b17",
   "metadata": {},
   "outputs": [
    {
     "name": "stdout",
     "output_type": "stream",
     "text": [
      "red BMW\n"
     ]
    }
   ],
   "source": [
    "class Car:\n",
    "    color = 'red'\n",
    "    brand = 'BMW'\n",
    "\n",
    "car1 = Car()\n",
    "print(car1.color, car1.brand)"
   ]
  },
  {
   "cell_type": "markdown",
   "id": "3de150ab-d679-4342-bd55-d438e7d3d2c2",
   "metadata": {},
   "source": [
    "#### Constructor"
   ]
  },
  {
   "cell_type": "code",
   "execution_count": 15,
   "id": "760971e5-6e35-46f6-8bd0-5e1d4561c377",
   "metadata": {},
   "outputs": [
    {
     "name": "stdout",
     "output_type": "stream",
     "text": [
      "RamEklare\n",
      "eklareram\n"
     ]
    }
   ],
   "source": [
    "class Student:\n",
    "    def __init__(self,name):\n",
    "        self.name = name\n",
    "\n",
    "s1 = Student('RamEklare')\n",
    "print(s1.name)\n",
    "\n",
    "s2 = Student('eklareram')\n",
    "print(s2.name)"
   ]
  },
  {
   "cell_type": "code",
   "execution_count": 25,
   "id": "d6126db4-956a-4221-9a38-472afb8a319d",
   "metadata": {},
   "outputs": [
    {
     "name": "stdout",
     "output_type": "stream",
     "text": [
      "adding new student in datbase..\n",
      "Ram 90\n"
     ]
    }
   ],
   "source": [
    "class Student:\n",
    "\n",
    "    # default constructor\n",
    "    def __init__(self):\n",
    "        pass\n",
    "\n",
    "    #parameterized constructor\n",
    "    def __init__(self,name,marks):\n",
    "        self.name = name\n",
    "        self.marks = marks\n",
    "        print('adding new student in datbase..')\n",
    "\n",
    "s1 = Student('Ram',90)\n",
    "print(s1.name, s1.marks)"
   ]
  },
  {
   "cell_type": "markdown",
   "id": "413ec75e-b7ab-4472-9c8b-3fbcb6b34916",
   "metadata": {},
   "source": [
    "#### Methods"
   ]
  },
  {
   "cell_type": "code",
   "execution_count": 42,
   "id": "16059213-6505-404c-a76d-eb581dcd7ba4",
   "metadata": {},
   "outputs": [
    {
     "name": "stdout",
     "output_type": "stream",
     "text": [
      "Welcome student RamEklare\n",
      "90\n"
     ]
    }
   ],
   "source": [
    "# Methods are functions that belongs to objects.\n",
    "\n",
    "class Student:\n",
    "    def __init__(self,fullname,marks):\n",
    "        self.fullname = fullname\n",
    "        self.marks = marks\n",
    "\n",
    "    def welcome(self):\n",
    "        print('Welcome student',self.fullname)\n",
    "\n",
    "    def get_marks(self):\n",
    "        return self.marks\n",
    "\n",
    "s1 = Student('RamEklare',90)\n",
    "s1.welcome()\n",
    "print(s1.get_marks())"
   ]
  },
  {
   "cell_type": "code",
   "execution_count": 56,
   "id": "f41b5235-3685-461b-974d-4690a6e8291a",
   "metadata": {},
   "outputs": [
    {
     "name": "stdout",
     "output_type": "stream",
     "text": [
      "Hi Ram your avg score is: 2.0\n"
     ]
    }
   ],
   "source": [
    "class Student:\n",
    "    def __init__(self,name,marks):\n",
    "        self.name = name\n",
    "        self.marks = marks\n",
    "\n",
    "    def marks_avg(self):\n",
    "        sum = 0\n",
    "        for value in self.marks:\n",
    "            sum = sum+value\n",
    "        print('Hi',self.name,'your avg score is:',sum/3)\n",
    "            \n",
    "\n",
    "s1 = Student('Ram',[1,2,3])\n",
    "s1.marks_avg()"
   ]
  },
  {
   "cell_type": "code",
   "execution_count": 68,
   "id": "0f3219d2-721d-49cd-a88e-068334339ab9",
   "metadata": {},
   "outputs": [
    {
     "name": "stdout",
     "output_type": "stream",
     "text": [
      "40\n",
      "26\n"
     ]
    }
   ],
   "source": [
    "# Create a class Rectangle with a constructor to initialize length and width. \n",
    "#Add a method to compute area and perimeter.\n",
    "\n",
    "class Rectangle:\n",
    "    def __init__(self,length,width):\n",
    "        self.length = length\n",
    "        self.width = width\n",
    "\n",
    "    def rec_area(self):\n",
    "        return self.length * self.width\n",
    "\n",
    "    def rec_perimeter(self):\n",
    "        return 2*(self.length + self.width)\n",
    "\n",
    "r1 = Rectangle(8,5)\n",
    "print(r1.rec_area())\n",
    "print(r1.rec_perimeter())"
   ]
  },
  {
   "cell_type": "code",
   "execution_count": 72,
   "id": "347ea046-8825-44f0-839c-1effd0035714",
   "metadata": {},
   "outputs": [
    {
     "name": "stdout",
     "output_type": "stream",
     "text": [
      "Attitude RVE\n"
     ]
    }
   ],
   "source": [
    "# Create a class Book with a constructor to initialize title and author. \n",
    "#Add a method display_info() to print both.\n",
    "\n",
    "class Book:\n",
    "    def __init__(self,title,author):\n",
    "        self.title = title\n",
    "        self.author = author\n",
    "\n",
    "    def display_info(self):\n",
    "        print(self.title,self.author)\n",
    "\n",
    "b1 = Book('Attitude','RVE')\n",
    "b1.display_info()"
   ]
  },
  {
   "cell_type": "code",
   "execution_count": 76,
   "id": "512bf718-9998-40e9-8180-c379a7f11a9f",
   "metadata": {},
   "outputs": [
    {
     "data": {
      "text/plain": [
       "120000"
      ]
     },
     "execution_count": 76,
     "metadata": {},
     "output_type": "execute_result"
    }
   ],
   "source": [
    "# Create a class Employee with a constructor to initialize name and salary. \n",
    "# Add a method annual_salary() to return salary × 12.\n",
    "\n",
    "class Employee:\n",
    "    def __init__(self,name,salary):\n",
    "        self.name = name\n",
    "        self.salary = salary\n",
    "\n",
    "    def annual_salary(self):\n",
    "        return self.salary * 12\n",
    "\n",
    "e1 = Employee('Ram',10000)\n",
    "e1.annual_salary()"
   ]
  },
  {
   "cell_type": "code",
   "execution_count": 80,
   "id": "6945ab7c-3053-4620-9fb6-0d1bf8e146ff",
   "metadata": {},
   "outputs": [
    {
     "data": {
      "text/plain": [
       "12.566370614359172"
      ]
     },
     "execution_count": 80,
     "metadata": {},
     "output_type": "execute_result"
    }
   ],
   "source": [
    "# Create a class Circle with a constructor to initialize radius. \n",
    "# Add methods to compute area and circumference.\n",
    "from math import pi\n",
    "class Circle:\n",
    "    def __init__(self,radius):\n",
    "        self.radius = radius\n",
    "\n",
    "    def area_circle(self):\n",
    "        return pi*self.radius**2\n",
    "\n",
    "c1 = Circle(2)\n",
    "c1.area_circle()"
   ]
  },
  {
   "cell_type": "code",
   "execution_count": 100,
   "id": "ccdccb04-5208-4f05-a8f8-83b25c6ef699",
   "metadata": {},
   "outputs": [
    {
     "name": "stdout",
     "output_type": "stream",
     "text": [
      "1200\n",
      "700\n"
     ]
    }
   ],
   "source": [
    "#Create a class BankAccount with a constructor to initialize account_number and balance. \n",
    "#Add methods deposit(amount) and withdraw(amount).\n",
    "\n",
    "class BankAccount:\n",
    "    def __init__(self,acc_num,balance):\n",
    "        self.acc_num = acc_num\n",
    "        self.balance = balance\n",
    "\n",
    "    def deposit(self,amount):\n",
    "        self.balance = self.balance + amount\n",
    "        return self.balance\n",
    "\n",
    "    def withdraw(self, amount):\n",
    "        if amount > self.balance:\n",
    "            return \"Insufficient balance\"\n",
    "        else:\n",
    "            self.balance = self.balance - amount\n",
    "            return self.balance\n",
    "    \n",
    "b1 = BankAccount(123,1000)\n",
    "print(b1.deposit(200))\n",
    "print(b1.withdraw(500))"
   ]
  },
  {
   "cell_type": "code",
   "execution_count": 102,
   "id": "7d971c42-a001-4cd9-9e00-a6645afa9927",
   "metadata": {},
   "outputs": [
    {
     "name": "stdout",
     "output_type": "stream",
     "text": [
      "KGF ABCD 9\n"
     ]
    }
   ],
   "source": [
    "#Create a class Movie with a constructor to initialize title, genre, and rating. \n",
    "#Add a method to print details in one line.\n",
    "\n",
    "class Movie:\n",
    "    def __init__(self,title,genre,rating):\n",
    "        self.title = title\n",
    "        self.genre = genre\n",
    "        self.rating = rating\n",
    "\n",
    "    def movie_details(self):\n",
    "        print(self.title,self.genre,self.rating)\n",
    "\n",
    "m1 = Movie('KGF','ABCD',9)\n",
    "m1.movie_details()"
   ]
  },
  {
   "cell_type": "code",
   "execution_count": 106,
   "id": "b64a446c-0fdc-4cde-b636-97671256ea9f",
   "metadata": {},
   "outputs": [
    {
     "name": "stdout",
     "output_type": "stream",
     "text": [
      "Minor\n"
     ]
    }
   ],
   "source": [
    "# Create a class Person with a constructor to initialize name and age. \n",
    "# If age < 18 print “Minor” else “Adult” in a method.\n",
    "\n",
    "class Person:\n",
    "    def __init__(self,name,age):\n",
    "        self.name = name\n",
    "        self.age = age\n",
    "\n",
    "    def person_details(self):\n",
    "        if self.age < 18:\n",
    "            print('Minor')\n",
    "        else:\n",
    "            print('Adult')\n",
    "\n",
    "p1 = Person('Ram',17)\n",
    "p1.person_details()"
   ]
  },
  {
   "cell_type": "markdown",
   "id": "54465e86-a681-414a-8157-86caf9fe0267",
   "metadata": {},
   "source": [
    "# Create a class ShoppingCart with a constructor that initializes an empty list items. \n",
    "# Add methods add_item(item) and view_cart().\n",
    "\n",
    "class ShoppingCart:\n",
    "    def __init__(self):\n",
    "        # constructor initializes an empty list of items\n",
    "        self.items = []\n",
    "\n",
    "    def add_item(self, item):\n",
    "        \"\"\"Add an item to the shopping cart\"\"\"\n",
    "        self.items.append(item)\n",
    "        print(f\"'{item}' added to cart.\")\n",
    "\n",
    "    def view_cart(self):\n",
    "        \"\"\"View all items in the cart\"\"\"\n",
    "        if not self.items:\n",
    "            print(\"Your cart is empty.\")\n",
    "        else:\n",
    "            print(\"Items in your cart:\")\n",
    "            for i, item in enumerate(self.items, start=1):\n",
    "                print(f\"{i}. {item}\")\n",
    "\n",
    "# Example usage:\n",
    "cart = ShoppingCart()\n",
    "cart.view_cart()          # empty cart initially\n",
    "cart.add_item(\"Apple\")\n",
    "cart.add_item(\"Milk\")\n",
    "cart.view_cart()\n"
   ]
  },
  {
   "cell_type": "markdown",
   "id": "8afc703b-b0e6-49dd-916d-0651c2557df3",
   "metadata": {},
   "source": [
    "#### Inheritance"
   ]
  },
  {
   "cell_type": "code",
   "execution_count": 11,
   "id": "20ef3ac4-955b-496b-9f72-221a4155f176",
   "metadata": {},
   "outputs": [],
   "source": [
    "# When One class derives the properties and methods of another class"
   ]
  },
  {
   "cell_type": "code",
   "execution_count": 21,
   "id": "cbfddf78-e95a-4e05-80e0-7fc13f444c00",
   "metadata": {},
   "outputs": [
    {
     "name": "stdout",
     "output_type": "stream",
     "text": [
      "Fortuner\n",
      "car started...\n",
      "None\n"
     ]
    }
   ],
   "source": [
    "# single inheritance\n",
    "class Car:\n",
    "    @staticmethod\n",
    "    def start():\n",
    "        print('car started...')\n",
    "\n",
    "    @staticmethod\n",
    "    def stop():\n",
    "        print('car stopped...')\n",
    "\n",
    "class ToyotaCar(Car):\n",
    "    def __init__(self,name):\n",
    "        self.name = name\n",
    "\n",
    "car1 = ToyotaCar('Fortuner')\n",
    "print(car1.name)\n",
    "print(car1.start())"
   ]
  },
  {
   "cell_type": "code",
   "execution_count": 23,
   "id": "655a989f-23df-4293-8114-79d4a3c22f49",
   "metadata": {},
   "outputs": [
    {
     "name": "stdout",
     "output_type": "stream",
     "text": [
      "i can eat\n",
      "i can bark\n"
     ]
    }
   ],
   "source": [
    "class Animal:\n",
    "    def eat(self):\n",
    "        print('i can eat')\n",
    "\n",
    "class Dog(Animal):\n",
    "    def bark(self):\n",
    "        print('i can bark')\n",
    "\n",
    "dog1 = Dog()\n",
    "dog1.eat()\n",
    "dog1.bark()"
   ]
  },
  {
   "cell_type": "code",
   "execution_count": 43,
   "id": "663efb6c-4d40-4ba2-af61-a8c9f83c2e5d",
   "metadata": {},
   "outputs": [
    {
     "name": "stdout",
     "output_type": "stream",
     "text": [
      "car started\n",
      "Diesel\n"
     ]
    }
   ],
   "source": [
    "# Multilevel inheritance\n",
    "\n",
    "class Car:\n",
    "    @staticmethod\n",
    "    def start():\n",
    "        print('car started')\n",
    "\n",
    "    @staticmethod\n",
    "    def stop():\n",
    "        print('car stopped')\n",
    "\n",
    "class ToyotaCar(Car):\n",
    "    def __init__(self,brand):\n",
    "        self.brand = brand\n",
    "\n",
    "class Fortuner(ToyotaCar):\n",
    "    def __init__(self,type):\n",
    "        self.type = type\n",
    "\n",
    "car1 = Fortuner('Diesel')\n",
    "car1.start()\n",
    "print(car1.type)"
   ]
  },
  {
   "cell_type": "code",
   "execution_count": 29,
   "id": "3fd038b4-44c0-458b-9359-eb862d29f662",
   "metadata": {},
   "outputs": [
    {
     "name": "stdout",
     "output_type": "stream",
     "text": [
      "I can breathe\n",
      "I can eat\n",
      "I can bark\n"
     ]
    }
   ],
   "source": [
    "# Grandparent class\n",
    "class LivingBeing:\n",
    "    def breathe(self):\n",
    "        print(\"I can breathe\")\n",
    "\n",
    "# Parent class (inherits from LivingBeing)\n",
    "class Animal(LivingBeing):\n",
    "    def eat(self):\n",
    "        print(\"I can eat\")\n",
    "\n",
    "# Child class (inherits from Animal)\n",
    "class Dog(Animal):\n",
    "    def bark(self):\n",
    "        print(\"I can bark\")\n",
    "\n",
    "# Using it\n",
    "d = Dog()\n",
    "d.breathe()  # from LivingBeing\n",
    "d.eat()      # from Animal\n",
    "d.bark()     # from Dog\n"
   ]
  },
  {
   "cell_type": "code",
   "execution_count": 37,
   "id": "0bd8c44f-7c3b-491a-b8ef-6c100f8c999b",
   "metadata": {},
   "outputs": [
    {
     "name": "stdout",
     "output_type": "stream",
     "text": [
      "I am a vehicle\n",
      "I am a car\n",
      "I run on electricity\n"
     ]
    }
   ],
   "source": [
    "# Grandparent class\n",
    "class Vehicle:\n",
    "    def general_info(self):\n",
    "        print(\"I am a vehicle\")\n",
    "\n",
    "# Parent class (inherits from Vehicle)\n",
    "class Car(Vehicle):\n",
    "    def car_info(self):\n",
    "        print(\"I am a car\")\n",
    "\n",
    "# Child class (inherits from Car)\n",
    "class ElectricCar(Car):\n",
    "    def battery_info(self):\n",
    "        print(\"I run on electricity\")\n",
    "\n",
    "# Using it\n",
    "e = ElectricCar()\n",
    "e.general_info()  # from Vehicle\n",
    "e.car_info()      # from Car\n",
    "e.battery_info()  # from ElectricCar\n"
   ]
  },
  {
   "cell_type": "code",
   "execution_count": 47,
   "id": "a9d39892-712a-482c-946f-e8d4cfd4b476",
   "metadata": {},
   "outputs": [
    {
     "name": "stdout",
     "output_type": "stream",
     "text": [
      "welcome to class C\n",
      "welcome to class B\n",
      "welcome to class A\n"
     ]
    }
   ],
   "source": [
    "# Multiple Inheritance\n",
    "\n",
    "class A:\n",
    "    varA = 'welcome to class A'\n",
    "\n",
    "class B:\n",
    "    varB = 'welcome to class B'\n",
    "\n",
    "class C(A,B):\n",
    "    varC = 'welcome to class C'\n",
    "\n",
    "c1 = C()\n",
    "print(c1.varC)\n",
    "print(c1.varB)\n",
    "print(c1.varA)"
   ]
  },
  {
   "cell_type": "code",
   "execution_count": 49,
   "id": "a63558a0-e3dc-4e60-9f1d-6429b265f60d",
   "metadata": {},
   "outputs": [
    {
     "name": "stdout",
     "output_type": "stream",
     "text": [
      "I have an engine\n",
      "I have wheels\n",
      "I am a car\n"
     ]
    }
   ],
   "source": [
    "# Parent class 1\n",
    "class Engine:\n",
    "    def engine_info(self):\n",
    "        print(\"I have an engine\")\n",
    "\n",
    "# Parent class 2\n",
    "class Wheels:\n",
    "    def wheels_info(self):\n",
    "        print(\"I have wheels\")\n",
    "\n",
    "# Child class (inherits from both Engine and Wheels)\n",
    "class Car(Engine, Wheels):\n",
    "    def car_info(self):\n",
    "        print(\"I am a car\")\n",
    "\n",
    "# Using it\n",
    "c = Car()\n",
    "c.engine_info()   # from Engine\n",
    "c.wheels_info()   # from Wheels\n",
    "c.car_info()      # from Car\n"
   ]
  },
  {
   "cell_type": "code",
   "execution_count": 55,
   "id": "527d90dc-3597-4246-b47e-2d7e12f98b40",
   "metadata": {},
   "outputs": [
    {
     "name": "stdout",
     "output_type": "stream",
     "text": [
      "98.0%\n",
      "85.33333333333333%\n"
     ]
    }
   ],
   "source": [
    "#  @property method\n",
    "\n",
    "class Student:\n",
    "    def __init__(self,phy,chem,math):\n",
    "        self.phy = phy\n",
    "        self.chem = chem\n",
    "        self.math = math\n",
    "\n",
    "    @property\n",
    "    def percentage(self):\n",
    "        return str((self.phy + self.chem + self.math) / 3) + '%'\n",
    "\n",
    "s1 = Student(98,99,97)\n",
    "print(s1.percentage)\n",
    "\n",
    "s1.phy = 60\n",
    "print(s1.percentage)"
   ]
  },
  {
   "cell_type": "code",
   "execution_count": null,
   "id": "94525aae-587d-4d21-b87e-406219bf9aaf",
   "metadata": {},
   "outputs": [],
   "source": []
  }
 ],
 "metadata": {
  "kernelspec": {
   "display_name": "Python 3 (ipykernel)",
   "language": "python",
   "name": "python3"
  },
  "language_info": {
   "codemirror_mode": {
    "name": "ipython",
    "version": 3
   },
   "file_extension": ".py",
   "mimetype": "text/x-python",
   "name": "python",
   "nbconvert_exporter": "python",
   "pygments_lexer": "ipython3",
   "version": "3.12.4"
  }
 },
 "nbformat": 4,
 "nbformat_minor": 5
}
