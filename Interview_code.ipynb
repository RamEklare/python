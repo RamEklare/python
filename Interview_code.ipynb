{
 "cells": [
  {
   "cell_type": "code",
   "execution_count": 3,
   "id": "465fda40-4e23-4b91-8b5b-8ad93f1cd477",
   "metadata": {},
   "outputs": [
    {
     "name": "stdin",
     "output_type": "stream",
     "text": [
      "enter first number 20\n",
      "enter second number 10\n",
      "enter third number 30\n"
     ]
    },
    {
     "name": "stdout",
     "output_type": "stream",
     "text": [
      "30\n"
     ]
    }
   ],
   "source": [
    "# Input three numbers\n",
    "n1 = int(input('enter first number'))\n",
    "n2 = int(input('enter second number'))\n",
    "n3 = int(input('enter third number'))\n",
    "\n",
    "if n1>=n2 and n1>=n3:\n",
    "    print(n1)\n",
    "elif n2>=n1 and n2>=n3:\n",
    "    print(n2)\n",
    "else:\n",
    "    print(n3)"
   ]
  },
  {
   "cell_type": "code",
   "execution_count": 7,
   "id": "8a575484-036f-48f7-97c0-d97198f5b6ce",
   "metadata": {},
   "outputs": [
    {
     "name": "stdin",
     "output_type": "stream",
     "text": [
      "enter a single character a\n"
     ]
    },
    {
     "name": "stdout",
     "output_type": "stream",
     "text": [
      "vowel\n"
     ]
    }
   ],
   "source": [
    "# Check if character is vowel or consol\n",
    "\n",
    "ch = input('enter a single character')\n",
    "if ch in ['a','e','i','o','u']:\n",
    "    print('vowel')\n",
    "else:\n",
    "    print('consol')"
   ]
  },
  {
   "cell_type": "code",
   "execution_count": 9,
   "id": "3216f563-cd0c-4cca-b728-0df32160436b",
   "metadata": {},
   "outputs": [
    {
     "name": "stdout",
     "output_type": "stream",
     "text": [
      "Found 2\n"
     ]
    }
   ],
   "source": [
    "# search the index of the number\n",
    "\n",
    "nums = [1,2,3,4,5,6]\n",
    "x = 3\n",
    "idx = 0\n",
    "while idx < len(nums):\n",
    "    if nums[idx] == x:\n",
    "        print('Found',idx)\n",
    "    idx = idx+1"
   ]
  },
  {
   "cell_type": "code",
   "execution_count": 11,
   "id": "8628d53f-9774-4fa5-8f99-9a9a01ca22cf",
   "metadata": {},
   "outputs": [
    {
     "name": "stdout",
     "output_type": "stream",
     "text": [
      "Found 2\n"
     ]
    }
   ],
   "source": [
    "nums = [1,2,3,4,5,6]\n",
    "x = 3\n",
    "idx = 0\n",
    "for num in nums:\n",
    "    if num == x:\n",
    "        print('Found',idx)\n",
    "    idx = idx+1"
   ]
  },
  {
   "cell_type": "code",
   "execution_count": 19,
   "id": "87d946b3-02d7-4cdf-a640-3a5bc8e8495e",
   "metadata": {},
   "outputs": [
    {
     "name": "stdout",
     "output_type": "stream",
     "text": [
      "6\n"
     ]
    }
   ],
   "source": [
    "# Factorial using recursion\n",
    "\n",
    "def factorial(n):\n",
    "    if n==0 or n==1:\n",
    "        return 1\n",
    "    else:\n",
    "        return n * factorial(n-1)\n",
    "       \n",
    "print(factorial(n))"
   ]
  },
  {
   "cell_type": "code",
   "execution_count": 25,
   "id": "f0f79655-c88d-4bd7-83a5-986af8614ac6",
   "metadata": {},
   "outputs": [
    {
     "name": "stdout",
     "output_type": "stream",
     "text": [
      "6\n"
     ]
    }
   ],
   "source": [
    "def fact(n):\n",
    "    fact = 1\n",
    "    for i in range(1,n+1):\n",
    "        fact = fact*i\n",
    "    print(fact)\n",
    "fact(3)"
   ]
  },
  {
   "cell_type": "code",
   "execution_count": 27,
   "id": "7945a72d-98e6-47cf-9a9b-14231ecb348d",
   "metadata": {},
   "outputs": [
    {
     "name": "stdout",
     "output_type": "stream",
     "text": [
      "15\n"
     ]
    }
   ],
   "source": [
    "# calculate sum of n natural numbers using recursion\n",
    "\n",
    "def sum_n(n):\n",
    "    if n == 0:\n",
    "        return 0\n",
    "    else:\n",
    "        return n + sum_n(n-1)\n",
    "print(sum_n(5))"
   ]
  },
  {
   "cell_type": "code",
   "execution_count": 29,
   "id": "4a8303e3-8e90-46d4-ad18-376868f5f39f",
   "metadata": {},
   "outputs": [
    {
     "name": "stdout",
     "output_type": "stream",
     "text": [
      "8\n"
     ]
    }
   ],
   "source": [
    "# Fibonacci using recursion\n",
    "\n",
    "def fib(n):\n",
    "    if n<=1:\n",
    "        return n\n",
    "    else:\n",
    "        return fib(n-1) + fib(n-2)\n",
    "print(fib(6))"
   ]
  },
  {
   "cell_type": "code",
   "execution_count": 31,
   "id": "888f51d6-f323-473e-89e5-0070e9570c3b",
   "metadata": {},
   "outputs": [
    {
     "name": "stdout",
     "output_type": "stream",
     "text": [
      "Palindrome\n"
     ]
    }
   ],
   "source": [
    "# Palindrome\n",
    "\n",
    "list = [1,2,3,2,1]\n",
    "list_copy = list.copy()\n",
    "list_copy.reverse()\n",
    "if list == list_copy:\n",
    "    print('Palindrome')\n",
    "else:\n",
    "    print('Not pal')"
   ]
  },
  {
   "cell_type": "code",
   "execution_count": 37,
   "id": "6dcb9fcd-ad90-4341-89ae-ba8f0c4a9412",
   "metadata": {},
   "outputs": [
    {
     "name": "stdin",
     "output_type": "stream",
     "text": [
      "enter tuple (1,2,3)\n"
     ]
    },
    {
     "name": "stdout",
     "output_type": "stream",
     "text": [
      "6\n"
     ]
    }
   ],
   "source": [
    "# sum of tuple\n",
    "\n",
    "t = eval(input('enter tuple'))\n",
    "sum = 0\n",
    "for i in t:\n",
    "    sum = sum+i\n",
    "print(sum)"
   ]
  },
  {
   "cell_type": "code",
   "execution_count": 39,
   "id": "1a33d35e-87c1-4a46-a498-bb0d42c3afcd",
   "metadata": {},
   "outputs": [
    {
     "name": "stdin",
     "output_type": "stream",
     "text": [
      "enter a num 3\n"
     ]
    },
    {
     "name": "stdout",
     "output_type": "stream",
     "text": [
      "6\n"
     ]
    }
   ],
   "source": [
    "# sum of n numbers\n",
    "\n",
    "n = int(input('enter a num'))\n",
    "sum = 0\n",
    "for i in range(1,n+1):\n",
    "    sum = sum + i\n",
    "print(sum)"
   ]
  },
  {
   "cell_type": "code",
   "execution_count": 41,
   "id": "b220599c-3a55-4669-95ac-a6cf16f2db35",
   "metadata": {},
   "outputs": [
    {
     "name": "stdout",
     "output_type": "stream",
     "text": [
      "0\n",
      "1\n",
      "1\n",
      "2\n",
      "3\n",
      "5\n",
      "None\n"
     ]
    }
   ],
   "source": [
    "# fibonacci series\n",
    "\n",
    "def fib(n):\n",
    "    a,b = 0,1\n",
    "    for i in range(n):\n",
    "        print(a)\n",
    "        a,b = b,a+b\n",
    "print(fib(6))"
   ]
  },
  {
   "cell_type": "code",
   "execution_count": 49,
   "id": "092c63bc-b0db-4d2e-9a0a-a4631c7dcba5",
   "metadata": {},
   "outputs": [
    {
     "name": "stdin",
     "output_type": "stream",
     "text": [
      "enter a num 1\n"
     ]
    },
    {
     "name": "stdout",
     "output_type": "stream",
     "text": [
      "Not prime\n"
     ]
    }
   ],
   "source": [
    "# Check if a number is prime or not\n",
    "\n",
    "def is_prime(n):\n",
    "    if n<=1:\n",
    "        return False\n",
    "    for i in range(2,int(n**0.5)+1):\n",
    "        if n%2==0:\n",
    "            return False\n",
    "    return True\n",
    "\n",
    "nums = int(input('enter a num'))\n",
    "if is_prime(nums):\n",
    "    print('prime')\n",
    "else:\n",
    "    print('Not prime')"
   ]
  },
  {
   "cell_type": "code",
   "execution_count": 57,
   "id": "8657361c-5b6e-4fff-aef1-8af5d4c7c253",
   "metadata": {},
   "outputs": [
    {
     "name": "stdout",
     "output_type": "stream",
     "text": [
      "[1, 2, 3, 4]\n"
     ]
    }
   ],
   "source": [
    "# remove duplicates from a list\n",
    "\n",
    "number = [1,1,2,2,3,3,4,4]\n",
    "uni_num = []\n",
    "for num in number:\n",
    "    if num not in uni_num:\n",
    "        uni_num.append(num)\n",
    "print(uni_num)\n",
    "    \n",
    "    "
   ]
  },
  {
   "cell_type": "code",
   "execution_count": 61,
   "id": "f7d1766a-963d-4ec1-839e-5bbaeca23523",
   "metadata": {},
   "outputs": [
    {
     "name": "stdout",
     "output_type": "stream",
     "text": [
      "{1: 2, 2: 2, 3: 2, 4: 2}\n"
     ]
    }
   ],
   "source": [
    "# count the occurence of the number\n",
    "\n",
    "number = [1,1,2,2,3,4,3,4]\n",
    "count = {}\n",
    "for num in number:\n",
    "    if num in count:\n",
    "        count[num] += 1\n",
    "    else:\n",
    "        count[num] = 1\n",
    "print(count)"
   ]
  },
  {
   "cell_type": "code",
   "execution_count": 63,
   "id": "36755af2-07ab-409c-9b79-0ac5942d6337",
   "metadata": {},
   "outputs": [
    {
     "name": "stdout",
     "output_type": "stream",
     "text": [
      "200\n"
     ]
    }
   ],
   "source": [
    "# Find the largest num in the list\n",
    "\n",
    "numbers = [10,50,200,4,3]\n",
    "largest = numbers[0]\n",
    "for num in numbers:\n",
    "    if num > largest:\n",
    "        largest = num\n",
    "print(largest)"
   ]
  },
  {
   "cell_type": "code",
   "execution_count": 65,
   "id": "ee496bda-a174-44a4-91c8-31d81e078f07",
   "metadata": {},
   "outputs": [
    {
     "name": "stdout",
     "output_type": "stream",
     "text": [
      "3\n"
     ]
    }
   ],
   "source": [
    "# Find the smallest num in the list\n",
    "\n",
    "numbers = [10,50,200,4,3]\n",
    "smallest = numbers[0]\n",
    "for num in numbers:\n",
    "    if num < smallest:\n",
    "        smallest=num\n",
    "print(smallest)"
   ]
  },
  {
   "cell_type": "code",
   "execution_count": 67,
   "id": "a45c6459-e589-4c95-89d7-d630fad27d61",
   "metadata": {},
   "outputs": [
    {
     "name": "stdout",
     "output_type": "stream",
     "text": [
      "30\n"
     ]
    }
   ],
   "source": [
    "# Find second highest numbers\n",
    "\n",
    "def sec_high(list):\n",
    "    unique_num = set(list)\n",
    "    if len(unique_num) < 2:\n",
    "        return None\n",
    "    unique_num.remove(max(unique_num))\n",
    "    return max(unique_num)\n",
    "numbers = [10,20,50,30]\n",
    "print(sec_high(numbers))"
   ]
  },
  {
   "cell_type": "code",
   "execution_count": 69,
   "id": "b227e851-69c7-427e-9bc0-1e649dec5ff3",
   "metadata": {},
   "outputs": [
    {
     "name": "stdout",
     "output_type": "stream",
     "text": [
      "[4, 3, 2, 1]\n"
     ]
    }
   ],
   "source": [
    "# reverse list\n",
    "list = [1,2,3,4]\n",
    "rev_list = []\n",
    "for num in list:\n",
    "    rev_list.insert(0,num)\n",
    "print(rev_list)"
   ]
  },
  {
   "cell_type": "code",
   "execution_count": 71,
   "id": "da589241-3d08-4a22-a51c-916acd7c7136",
   "metadata": {},
   "outputs": [
    {
     "name": "stdout",
     "output_type": "stream",
     "text": [
      "['elppa', 'ananab', 'yrrehc']\n"
     ]
    }
   ],
   "source": [
    "# reverse\n",
    "fruits = ['apple', 'banana', 'cherry']\n",
    "reversed_words = [word[::-1] for word in fruits]\n",
    "print(reversed_words)\n"
   ]
  },
  {
   "cell_type": "code",
   "execution_count": 73,
   "id": "81b5a115-f2f6-4960-a4ce-efdfdb0d9e29",
   "metadata": {},
   "outputs": [
    {
     "name": "stdout",
     "output_type": "stream",
     "text": [
      "[0, 2, 4, 6, 8]\n"
     ]
    }
   ],
   "source": [
    "even_numbers = [x for x in range(10) if x % 2 == 0]\n",
    "print(even_numbers)  # Output: [0, 2, 4, 6, 8]\n",
    "\n"
   ]
  },
  {
   "cell_type": "code",
   "execution_count": 75,
   "id": "f1d2a433-5e83-4773-bc32-296afd260b17",
   "metadata": {},
   "outputs": [
    {
     "name": "stdout",
     "output_type": "stream",
     "text": [
      "Even numbers: [0, 2, 4, 6, 8]\n",
      "Sum: 20\n"
     ]
    }
   ],
   "source": [
    "even_numbers = [x for x in range(10) if x % 2 == 0]\n",
    "\n",
    "total = 0\n",
    "for num in even_numbers:\n",
    "    total += num\n",
    "\n",
    "print(\"Even numbers:\", even_numbers)\n",
    "print(\"Sum:\", total)\n"
   ]
  },
  {
   "cell_type": "code",
   "execution_count": 83,
   "id": "5a6a52a0-7b41-46ef-9f3b-49f1fc0188ad",
   "metadata": {},
   "outputs": [
    {
     "name": "stdout",
     "output_type": "stream",
     "text": [
      "[4, 2, 3, 1]\n"
     ]
    }
   ],
   "source": [
    "# Swap list\n",
    "\n",
    "def swaplist(list):\n",
    "    get  = list[0], list[-1]\n",
    "    list[-1], list[0] = get\n",
    "    return list\n",
    "newlist = [1,2,3,4]\n",
    "print(swaplist(newlist))"
   ]
  },
  {
   "cell_type": "code",
   "execution_count": 85,
   "id": "07bce505-95af-4daa-9944-9711112dc589",
   "metadata": {},
   "outputs": [
    {
     "name": "stdout",
     "output_type": "stream",
     "text": [
      "192\n"
     ]
    }
   ],
   "source": [
    "# multiply element in list\n",
    "\n",
    "list = [2,4,8,3]\n",
    "mul = 1\n",
    "for num in list:\n",
    "    mul = mul * num\n",
    "print(mul)"
   ]
  },
  {
   "cell_type": "code",
   "execution_count": 87,
   "id": "cf46c789-e387-4da8-9ef1-71bf149d5cd2",
   "metadata": {},
   "outputs": [
    {
     "name": "stdout",
     "output_type": "stream",
     "text": [
      "2\n",
      "4\n",
      "6\n"
     ]
    }
   ],
   "source": [
    "# Even number in a list\n",
    "list = [1,2,3,4,5,6]\n",
    "for num in list:\n",
    "    if num % 2 == 0:\n",
    "        print(num)\n",
    "    "
   ]
  },
  {
   "cell_type": "code",
   "execution_count": 89,
   "id": "474689e7-a1ce-4c2d-99bd-10744f62af2f",
   "metadata": {},
   "outputs": [
    {
     "name": "stdout",
     "output_type": "stream",
     "text": [
      "1\n",
      "3\n",
      "5\n"
     ]
    }
   ],
   "source": [
    "# odd num\n",
    "list = [1,2,3,4,5,6]\n",
    "for num in list:\n",
    "    if num % 2 != 0:\n",
    "        print(num)"
   ]
  },
  {
   "cell_type": "code",
   "execution_count": 91,
   "id": "377280e3-3b00-463c-900d-1417eb58cc69",
   "metadata": {},
   "outputs": [
    {
     "name": "stdout",
     "output_type": "stream",
     "text": [
      "[0, 2, 4, 6, 8, 10, 12, 14, 16, 18, 20, 22, 24, 26, 28, 30, 32, 34, 36, 38, 40, 42, 44, 46, 48]\n"
     ]
    }
   ],
   "source": [
    "# print all even num in a range\n",
    "even = [x for x in range(50) if x % 2 == 0]\n",
    "print(even)\n",
    "    "
   ]
  },
  {
   "cell_type": "code",
   "execution_count": 93,
   "id": "e1ae0c0b-9bb1-4d71-8aa0-bf95b71ad8e1",
   "metadata": {},
   "outputs": [
    {
     "name": "stdout",
     "output_type": "stream",
     "text": [
      "[1, 3, 5, 7, 9, 11, 13, 15, 17, 19, 21, 23, 25, 27, 29, 31, 33, 35, 37, 39, 41, 43, 45, 47, 49]\n"
     ]
    }
   ],
   "source": [
    "# print all odd number in a range\n",
    "odd = [x for x in range(50) if x%2 != 0]\n",
    "print(odd)"
   ]
  },
  {
   "cell_type": "code",
   "execution_count": 95,
   "id": "e01b85b3-9a2d-4767-93a8-90adb5ca96bc",
   "metadata": {},
   "outputs": [
    {
     "name": "stdout",
     "output_type": "stream",
     "text": [
      "[10, 30, 50, 70]\n"
     ]
    }
   ],
   "source": [
    "# remove multiple element from list\n",
    "list = [10,20,30,40,50,60,70]\n",
    "remove = [20,40,60]\n",
    "result = []\n",
    "for num in list:\n",
    "    if num not in remove:\n",
    "        result.append(num)\n",
    "print(result)\n",
    "        "
   ]
  },
  {
   "cell_type": "code",
   "execution_count": 97,
   "id": "99eab683-aea9-4511-8529-e035f8c47ea8",
   "metadata": {},
   "outputs": [
    {
     "name": "stdout",
     "output_type": "stream",
     "text": [
      "4\n"
     ]
    }
   ],
   "source": [
    "# find the length of list\n",
    "\n",
    "list = [1,2,3,4]\n",
    "count = 0\n",
    "for num in list:\n",
    "    count = count + 1\n",
    "print(count)"
   ]
  },
  {
   "cell_type": "code",
   "execution_count": 105,
   "id": "247c2ced-cbf2-4175-833b-222138b04fc3",
   "metadata": {},
   "outputs": [
    {
     "name": "stdout",
     "output_type": "stream",
     "text": [
      "4\n"
     ]
    }
   ],
   "source": [
    "def len_list(list):\n",
    "    return len(list)\n",
    "list = [1,2,3,4]\n",
    "print(len_list(list))"
   ]
  },
  {
   "cell_type": "code",
   "execution_count": 99,
   "id": "2a3c1a06-f0ab-400c-befc-731064e70e95",
   "metadata": {},
   "outputs": [
    {
     "name": "stdout",
     "output_type": "stream",
     "text": [
      "['s', 'k', 'G', 'e']\n"
     ]
    }
   ],
   "source": [
    "# find duplicate character in string\n",
    "s = \"GeeksforGeeks\"\n",
    "res = []\n",
    "\n",
    "# Iterate over the unique elements in 's'\n",
    "for c in set(s):  # Use set to avoid repeated checks\n",
    "    if s.count(c) > 1:\n",
    "        res.append(c)\n",
    "        \n",
    "\n",
    "print(res)\n",
    "\n"
   ]
  },
  {
   "cell_type": "code",
   "execution_count": 103,
   "id": "7e2fd434-8bb5-413c-96fd-0cde6585458d",
   "metadata": {},
   "outputs": [
    {
     "name": "stdout",
     "output_type": "stream",
     "text": [
      "['r', 'a', 'm', 'e', 'k', 'l']\n"
     ]
    }
   ],
   "source": [
    "name = 'rameklare'\n",
    "uni_cha = []\n",
    "for char in name:\n",
    "    if char not in uni_cha:\n",
    "        uni_cha.append(char)\n",
    "print(uni_cha)"
   ]
  },
  {
   "cell_type": "code",
   "execution_count": 107,
   "id": "815b3e43-94d2-4721-9c68-2b4fe9318e7d",
   "metadata": {},
   "outputs": [
    {
     "name": "stdout",
     "output_type": "stream",
     "text": [
      "eralkemar\n"
     ]
    }
   ],
   "source": [
    "#reversed string\n",
    "string='rameklare'\n",
    "rev_string=''\n",
    "for char in string:\n",
    "    rev_string=char+rev_string\n",
    "print(rev_string)"
   ]
  },
  {
   "cell_type": "code",
   "execution_count": null,
   "id": "c8452bd5-df6d-4943-9222-d10e2d02ae65",
   "metadata": {},
   "outputs": [],
   "source": []
  }
 ],
 "metadata": {
  "kernelspec": {
   "display_name": "Python 3 (ipykernel)",
   "language": "python",
   "name": "python3"
  },
  "language_info": {
   "codemirror_mode": {
    "name": "ipython",
    "version": 3
   },
   "file_extension": ".py",
   "mimetype": "text/x-python",
   "name": "python",
   "nbconvert_exporter": "python",
   "pygments_lexer": "ipython3",
   "version": "3.12.4"
  }
 },
 "nbformat": 4,
 "nbformat_minor": 5
}
